{
 "cells": [
  {
   "cell_type": "code",
   "execution_count": 256,
   "metadata": {},
   "outputs": [],
   "source": [
    "L=[['P59', 'P166', 'P119', '4'], ['P59', 'P166', 'P119', '5'], ['P59', 'P166', '6'], ['P59', '7']]"
   ]
  },
  {
   "cell_type": "code",
   "execution_count": 255,
   "metadata": {},
   "outputs": [],
   "source": [
    "def getRoot(L_):\n",
    "    S=set(L_[0])\n",
    "    for l in L:\n",
    "        S=S.intersection(set(l))\n",
    " \n",
    "    return S\n",
    "\n",
    "def getNodes(L_):\n",
    "    S=set(L_[0])\n",
    "    for l in L_:\n",
    "        S=S.union(set(l))\n",
    "\n",
    "    return S\n",
    "\n",
    "\n",
    "def getLeaves(L_):\n",
    "    N=getNodes(L)\n",
    "    S=set(L_[0])\n",
    "    n_={}\n",
    "    LF=set()\n",
    "    for n in N:\n",
    "        n_=0\n",
    "        for l in L_:\n",
    "            n_=n_+len(set([n]).intersection(l))\n",
    "        if n_==1:\n",
    "            LF=LF.union(set([n])) \n",
    "    \n",
    "    return LF\n",
    "\n",
    "def getChild2(L_,n):\n",
    "    children=set()\n",
    "    L___=[]\n",
    "    L__=[l for l in L_ if len(set(l).intersection(set([n])))>0]\n",
    "    for l in L__:\n",
    "        if len(l)==2:\n",
    "            children=children.union(set(l)-set([n]))\n",
    "\n",
    "    nl=[n]\n",
    "    for i in children:\n",
    "        nl.append(i)\n",
    "        L_.remove(nl)\n",
    "    return children,L_\n",
    "\n",
    "\n",
    "def getReduce(L_):\n",
    "    if len(L_) <=2:\n",
    "        return L_\n",
    "    \n",
    "    l0=L[0]\n",
    "    \n",
    "    for l in L_[1:]:\n",
    "        if len(set(l).intersection(set(l0)))>0:\n",
    "            L_.append(list(set(l).intersection(set(l0))))\n",
    "            L_.remove(l0)\n",
    "            L_.remove(l)\n",
    "            break\n",
    "    print(L_)\n",
    "    return L_\n",
    "    "
   ]
  },
  {
   "cell_type": "code",
   "execution_count": 239,
   "metadata": {},
   "outputs": [
    {
     "data": {
      "text/plain": [
       "{'P59'}"
      ]
     },
     "execution_count": 239,
     "metadata": {},
     "output_type": "execute_result"
    }
   ],
   "source": [
    "getRoot(L)"
   ]
  },
  {
   "cell_type": "code",
   "execution_count": 240,
   "metadata": {},
   "outputs": [
    {
     "data": {
      "text/plain": [
       "{'4', '5', '6', '7', 'P119', 'P166', 'P59'}"
      ]
     },
     "execution_count": 240,
     "metadata": {},
     "output_type": "execute_result"
    }
   ],
   "source": [
    "getNodes(L)"
   ]
  },
  {
   "cell_type": "code",
   "execution_count": 241,
   "metadata": {},
   "outputs": [
    {
     "data": {
      "text/plain": [
       "{'P166', 'P59'}"
      ]
     },
     "execution_count": 241,
     "metadata": {},
     "output_type": "execute_result"
    }
   ],
   "source": [
    "set(L[0]) & set(L[2]) "
   ]
  },
  {
   "cell_type": "code",
   "execution_count": 242,
   "metadata": {},
   "outputs": [
    {
     "data": {
      "text/plain": [
       "{'4', '5', '6', '7'}"
      ]
     },
     "execution_count": 242,
     "metadata": {},
     "output_type": "execute_result"
    }
   ],
   "source": [
    "getLeaves(L)"
   ]
  },
  {
   "cell_type": "code",
   "execution_count": 243,
   "metadata": {},
   "outputs": [
    {
     "data": {
      "text/plain": [
       "({'7'},\n",
       " [['P59', 'P166', 'P119', '4'],\n",
       "  ['P59', 'P166', 'P119', '5'],\n",
       "  ['P59', 'P166', '6']])"
      ]
     },
     "execution_count": 243,
     "metadata": {},
     "output_type": "execute_result"
    }
   ],
   "source": [
    "getChild2(L,'P59')"
   ]
  },
  {
   "cell_type": "code",
   "execution_count": 120,
   "metadata": {},
   "outputs": [],
   "source": [
    "A.append([5,6])"
   ]
  },
  {
   "cell_type": "code",
   "execution_count": 121,
   "metadata": {},
   "outputs": [
    {
     "data": {
      "text/plain": [
       "[[1, 2, 3], [5, 6]]"
      ]
     },
     "execution_count": 121,
     "metadata": {},
     "output_type": "execute_result"
    }
   ],
   "source": [
    "A"
   ]
  },
  {
   "cell_type": "code",
   "execution_count": 261,
   "metadata": {},
   "outputs": [],
   "source": [
    "L=getReduce(L)"
   ]
  },
  {
   "cell_type": "code",
   "execution_count": 260,
   "metadata": {},
   "outputs": [
    {
     "data": {
      "text/plain": [
       "[['P59', 'P119', 'P166'], ['P59']]"
      ]
     },
     "execution_count": 260,
     "metadata": {},
     "output_type": "execute_result"
    }
   ],
   "source": [
    "L"
   ]
  },
  {
   "cell_type": "code",
   "execution_count": null,
   "metadata": {},
   "outputs": [],
   "source": []
  }
 ],
 "metadata": {
  "kernelspec": {
   "display_name": "Python 2",
   "language": "python",
   "name": "python2"
  },
  "language_info": {
   "codemirror_mode": {
    "name": "ipython",
    "version": 3
   },
   "file_extension": ".py",
   "mimetype": "text/x-python",
   "name": "python",
   "nbconvert_exporter": "python",
   "pygments_lexer": "ipython3",
   "version": "3.7.1"
  }
 },
 "nbformat": 4,
 "nbformat_minor": 2
}
