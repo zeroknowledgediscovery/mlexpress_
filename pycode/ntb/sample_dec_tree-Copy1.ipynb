{
 "cells": [
  {
   "cell_type": "code",
   "execution_count": 1,
   "metadata": {},
   "outputs": [],
   "source": [
    "import numpy as np\n",
    "import os\n",
    "import sys\n",
    "sys.path.append('../')\n",
    "import mlx as ml \n",
    "import warnings\n",
    "import operator\n",
    "import pickle\n",
    "import glob\n",
    "import pylab as plt\n",
    "%matplotlib inline\n",
    "import pandas as pd\n",
    "from tqdm import tqdm\n",
    "DEBUG=False"
   ]
  },
  {
   "cell_type": "code",
   "execution_count": 75,
   "metadata": {},
   "outputs": [],
   "source": [
    "def dictprod(dict_,a=1.0):\n",
    "    '''\n",
    "        given a dict of probability distributions \n",
    "        represented as such: {'key1': val1, ... ,'keyn':valn}\n",
    "        multiply all values with the second argument `a`\n",
    "    '''\n",
    "    return {key:value*a for (key,value) in dict_.iteritems()}\n",
    " \n",
    "def normalizedict(dict_):\n",
    "    '''\n",
    "        given a dict represented as such: {'key1': val1, ... ,'keyn':valn}\n",
    "        scale all values such that they sum to 1.0    \n",
    "    '''\n",
    "    s=0.0\n",
    "    for key in dict_.keys():\n",
    "        s=s+dict_[key]\n",
    "    return {key:(value/s) for (key,value) in dict_.iteritems()}\n",
    "\n",
    "def mergedistributions(dist_):\n",
    "    '''\n",
    "        given a dict of dicts, each represented as such: {'key1': val1, ... ,'keyn':valn}\n",
    "        we retun a combined dict, where values corresponding  to key1 is the average over \n",
    "        all component dicts\n",
    "    '''\n",
    "    num=len(dist_.keys())\n",
    "    key_list=[]\n",
    "    for key in dist_.keys():\n",
    "        key_list=np.append(key_list,dist_[key].keys())\n",
    "        \n",
    "    D={}\n",
    "    for key in key_list:\n",
    "        D[key]=0.0\n",
    "        \n",
    "    for count in dist_.keys():\n",
    "        for key_ in dist_[count].keys():\n",
    "            if key_ in dist_[count]:\n",
    "                D[key_]=D[key_]+dist_[count][key_]\n",
    "    return {key:value/(num+0.0) for (key,value) in D.iteritems() }\n",
    "\n",
    "def getMergedDistribution(tree,cond={}):\n",
    "    '''\n",
    "        get distribution over keys given particular\n",
    "        constriants (cond) on the decision tree\n",
    "        \n",
    "        Arguments:\n",
    "        \n",
    "        tree: decision tree returned by mlx.py\n",
    "        cond: conditions that specify constraints\n",
    "              on the decision tree\n",
    "        \n",
    "    '''\n",
    "    node_id_map={feature_name:np.array([], dtype=int) for (i,feature_name) in tree.feature.iteritems()}\n",
    "    for (i,feature_name) in tree.feature.iteritems():\n",
    "        node_id_map[feature_name]=np.append(node_id_map[feature_name],int(i))\n",
    "    \n",
    "    if DEBUG:\n",
    "        print(node_id_map)\n",
    "    #propagate to find current nodes\n",
    "    children={i:set() for i in cond.keys()}\n",
    "    for feature_name in cond.keys():\n",
    "        for node_id in tree.feature:\n",
    "            if tree.feature[node_id] == feature_name:\n",
    "                children[feature_name]=children[feature_name].union(tree.children[node_id])\n",
    "    if DEBUG:\n",
    "        print(children)\n",
    "\n",
    "    current_active_nodes=np.array([],int)\n",
    "    for feature_name in cond.keys():\n",
    "        for child in children[feature_name]:\n",
    "            for parent in node_id_map[feature_name]:\n",
    "                if (parent,child) in tree.edge_cond_:\n",
    "                    for edge_var in cond[feature_name]:\n",
    "                        if edge_var in tree.edge_cond_[(parent,child)]:\n",
    "                            if DEBUG:\n",
    "                                print(parent,child,\"::\",tree.edge_cond_[(parent,child)])\n",
    "                            current_active_nodes=np.append(current_active_nodes,child)\n",
    "    \n",
    "    S=0.0\n",
    "    if current_active_nodes.size == 0:\n",
    "        current_active_nodes=np.array([1],int)\n",
    "    for i in current_active_nodes:\n",
    "        S=S+tree.num_pass_[i]\n",
    "        \n",
    "    indexed_dist={i:dictprod(tree.class_pred_[i],tree.num_pass_[i]/S) for i in current_active_nodes}\n",
    "    dist_=normalizedict(mergedistributions(indexed_dist))\n",
    "        \n",
    "    if DEBUG:\n",
    "        print(children)\n",
    "        print(current_active_nodes)\n",
    "        print(\"ID\",indexed_dist)\n",
    "        print(\"MD\",mergedistributions(indexed_dist))\n",
    "        print(\"ND\",normalizedict(mergedistributions(indexed_dist)))\n",
    "        \n",
    "    return dist_  \n",
    "    \n",
    "def sampleTree(tree,cond={},sample='mle',DIST=False,NUMSAMPLE=10):\n",
    "    '''\n",
    "        draw sample from decision tree\n",
    "        specified in the format that \n",
    "        mlx.py returns\n",
    "        \n",
    "        Arguments:\n",
    "        \n",
    "        1. cond: dict of the format {'name': value, 'name1': value1,...}\n",
    "                 specifies the constraints on the decision tree.\n",
    "                 example: {'RBM34':'C','SOX2': 'A'}\n",
    "        \n",
    "        Note--> we can use arbitrary cond argument, irrespective of if the\n",
    "        names are in the decision tree at all or not. Also, we can use \n",
    "        an empty cond dict, which corresponds to the unconstrained tree.\n",
    "        In all these cases, it makes sense to ask what is the distribution on the \n",
    "        keys that the decision tree outputs, and we attempt to compute that.\n",
    "        \n",
    "        2. sample: 'mle'|'random' \n",
    "                   if 'mle' then return the value with maximum probability.\n",
    "                   if 'random' then makes random choice NUMSAMPLE times \n",
    "                   and returns the result.\n",
    "        \n",
    "        3. DIST: TRUE|FALSE\n",
    "                 if TRUE returns the distribution from the tree \n",
    "                 after applying the constraints\n",
    "    '''\n",
    "    dist_=getMergedDistribution(tree,cond=cond)\n",
    "    if sample is 'mle':\n",
    "        sample=max(dist_.iteritems(), key=operator.itemgetter(1))[0]\n",
    "    if sample is 'random':\n",
    "        probs = dist_.values()\n",
    "        keys =  dist_.keys()\n",
    "\n",
    "        sample = np.random.choice(keys,NUMSAMPLE, replace=True, p=probs)\n",
    "    if DIST:\n",
    "        return sample,dist_\n",
    "    return sample\n",
    "\n",
    "def getFmap(PATH_TO_TREES):\n",
    "    F={}\n",
    "    TREE={}\n",
    "    TREES=glob.glob(PATH_TO_TREES)\n",
    "    for filename in TREES:\n",
    "        with open(filename,'rb') as f:\n",
    "            TR = pickle.load(f)\n",
    "        f.close()\n",
    "        index=os.path.splitext(os.path.basename(filename))[0].split('_')[-1]\n",
    "        #print index\n",
    "        F[index]=[]\n",
    "        TREE[index]=TR\n",
    "        for key,value in TR.feature.iteritems():\n",
    "            if not TR.TREE_LEAF[key]:\n",
    "                F[index]=np.append(F[index],value)\n",
    "    return F,TREE\n",
    "\n",
    "def getPerturbation(seq,PATH_TO_TREES):\n",
    "    F,TREES=getFmap(PATH_TO_TREES)\n",
    "    P={}\n",
    "    for KEY in F.keys():\n",
    "        I=[int(x.replace('P','')) for x in F[KEY]]\n",
    "        DICT_={'P'+str(i):seq[i] for i in I}\n",
    "        D=sampleTree(TREES[KEY],DICT_,sample='random',DIST=True)[1]\n",
    "        \n",
    "        P[KEY]=[D[x] for x in sorted(D.keys()) ]\n",
    "    return P\n",
    "\n",
    "def klscore(p1,p2):\n",
    "    \n",
    "    if any(np.array(p2)<=0):\n",
    "        return np.nan\n",
    "    \n",
    "    return np.array([p1[i]*np.log2(p1[i]/p2[i]) for i in range(len(p1))]).sum()\n",
    "\n",
    "def jsdiv(p1,p2,smooth=True):\n",
    "    \n",
    "    \n",
    "    p1=np.array(p1)\n",
    "    p2=np.array(p2)\n",
    "    \n",
    "    p1=(p1+0.001)/1.001\n",
    "    p2=(p2+0.001)/1.001\n",
    "    \n",
    "    p=0.5*(p1+p2)\n",
    "    return 0.5*(klscore(p1,p)+klscore(p2,p))"
   ]
  },
  {
   "cell_type": "code",
   "execution_count": 47,
   "metadata": {},
   "outputs": [],
   "source": [
    "PATH_TO_TREES='../../cchf/cchfl_trees/*pkl'\n",
    "gn=pd.read_csv('../../cchf/cchfl_test.csv')\n",
    "seq=gn.loc[0]"
   ]
  },
  {
   "cell_type": "code",
   "execution_count": 48,
   "metadata": {},
   "outputs": [],
   "source": [
    "F,TREES=getFmap(PATH_TO_TREES)"
   ]
  },
  {
   "cell_type": "code",
   "execution_count": 8,
   "metadata": {},
   "outputs": [
    {
     "data": {
      "text/plain": [
       "{'P141': 'A', 'P4651': 'A', 'P60': 'C'}"
      ]
     },
     "execution_count": 8,
     "metadata": {},
     "output_type": "execute_result"
    }
   ],
   "source": [
    "KEY='P93'\n",
    "I=[int(x.replace('P','')) for x in F[KEY]]\n",
    "v=[seq[i] for i in I]\n",
    "DICT_={'P'+str(i):seq[i] for i in I}\n",
    "DICT_"
   ]
  },
  {
   "cell_type": "code",
   "execution_count": 9,
   "metadata": {},
   "outputs": [
    {
     "data": {
      "text/plain": [
       "{'A': 0.0, 'C': 0.07647202540923528, 'G': 0.0, 'T': 0.9235279745907646}"
      ]
     },
     "execution_count": 9,
     "metadata": {},
     "output_type": "execute_result"
    }
   ],
   "source": [
    "sampleTree(TREES[KEY],DICT_,sample='random',DIST=True)[1]"
   ]
  },
  {
   "cell_type": "code",
   "execution_count": null,
   "metadata": {},
   "outputs": [],
   "source": []
  },
  {
   "cell_type": "code",
   "execution_count": 51,
   "metadata": {},
   "outputs": [],
   "source": [
    "P=getPerturbation(seq,PATH_TO_TREES)"
   ]
  },
  {
   "cell_type": "code",
   "execution_count": 52,
   "metadata": {},
   "outputs": [
    {
     "data": {
      "text/plain": [
       "[0.0, 0.43321917808219174, 0.0, 0.5667808219178082]"
      ]
     },
     "execution_count": 52,
     "metadata": {},
     "output_type": "execute_result"
    }
   ],
   "source": [
    "P['P1008']"
   ]
  },
  {
   "cell_type": "code",
   "execution_count": 35,
   "metadata": {
    "scrolled": true
   },
   "outputs": [
    {
     "data": {
      "text/plain": [
       "0.16216216216216217"
      ]
     },
     "execution_count": 35,
     "metadata": {},
     "output_type": "execute_result"
    }
   ],
   "source": [
    "Q[3001]"
   ]
  },
  {
   "cell_type": "code",
   "execution_count": 53,
   "metadata": {},
   "outputs": [
    {
     "data": {
      "text/plain": [
       "[0.00693069306930693,\n",
       " 0.02079207920792079,\n",
       " 0.00693069306930693,\n",
       " 0.9653465346534653]"
      ]
     },
     "execution_count": 53,
     "metadata": {},
     "output_type": "execute_result"
    }
   ],
   "source": [
    "P['P3000']"
   ]
  },
  {
   "cell_type": "code",
   "execution_count": null,
   "metadata": {},
   "outputs": [],
   "source": [
    "seq0=gn.loc[1]\n",
    "seq1=gn.loc[20]"
   ]
  },
  {
   "cell_type": "code",
   "execution_count": 54,
   "metadata": {},
   "outputs": [],
   "source": [
    "P0=getPerturbation(seq0,PATH_TO_TREES)\n",
    "P1=getPerturbation(seq1,PATH_TO_TREES)"
   ]
  },
  {
   "cell_type": "code",
   "execution_count": 72,
   "metadata": {},
   "outputs": [
    {
     "name": "stdout",
     "output_type": "stream",
     "text": [
      "[0.731958762886598, 0.18253486961795026, 0.02850212249848393, 0.05700424499696786]\n",
      "[0.00693069306930693, 0.02079207920792079, 0.00693069306930693, 0.9653465346534653]\n",
      "3.814558727504776\n",
      "0.751990812212272\n",
      "0.751990812212272\n"
     ]
    }
   ],
   "source": [
    "print P0['P3000']\n",
    "print P1['P3000']\n",
    "\n",
    "print klscore(P1['P3000'],P0['P3000'])\n",
    "print jsdiv(P1['P3000'],P0['P3000'])\n",
    "print jsdiv(P0['P3000'],P1['P3000'])\n"
   ]
  },
  {
   "cell_type": "code",
   "execution_count": 73,
   "metadata": {},
   "outputs": [],
   "source": [
    "def getDistance(seq0,seq1,PATH_TO_TREES):\n",
    "    P0=getPerturbation(seq0,PATH_TO_TREES)\n",
    "    P1=getPerturbation(seq1,PATH_TO_TREES)\n",
    "    S=0.0\n",
    "    nCount=0\n",
    "    for key0 in P0.keys():\n",
    "        if key0 in P1.keys():\n",
    "            S=S+jsdiv(P0[key0],P1[key0])\n",
    "            nCount=nCount+1\n",
    "    if nCount == 0:\n",
    "        nCount=1\n",
    "    return S/(nCount+0.0)"
   ]
  },
  {
   "cell_type": "code",
   "execution_count": 76,
   "metadata": {},
   "outputs": [
    {
     "data": {
      "text/plain": [
       "0.03171281029655304"
      ]
     },
     "execution_count": 76,
     "metadata": {},
     "output_type": "execute_result"
    }
   ],
   "source": [
    "getDistance(seq1,gn.loc[69],PATH_TO_TREES)"
   ]
  },
  {
   "cell_type": "code",
   "execution_count": null,
   "metadata": {},
   "outputs": [],
   "source": [
    "getDistance(seq1,gn.loc[19],PATH_TO_TREES)"
   ]
  },
  {
   "cell_type": "code",
   "execution_count": 81,
   "metadata": {
    "scrolled": true
   },
   "outputs": [
    {
     "data": {
      "text/plain": [
       "0.0136664180544655"
      ]
     },
     "execution_count": 81,
     "metadata": {},
     "output_type": "execute_result"
    }
   ],
   "source": [
    "getDistance(gn.loc[7],gn.loc[33],PATH_TO_TREES)"
   ]
  },
  {
   "cell_type": "code",
   "execution_count": 78,
   "metadata": {
    "scrolled": false
   },
   "outputs": [
    {
     "name": "stderr",
     "output_type": "stream",
     "text": [
      "\r",
      "  0%|          | 0/20 [00:00<?, ?it/s]"
     ]
    },
    {
     "ename": "KeyboardInterrupt",
     "evalue": "",
     "output_type": "error",
     "traceback": [
      "\u001b[0;31m---------------------------------------------------------------------------\u001b[0m",
      "\u001b[0;31mKeyboardInterrupt\u001b[0m                         Traceback (most recent call last)",
      "\u001b[0;32m<ipython-input-78-b5bb7873682e>\u001b[0m in \u001b[0;36m<module>\u001b[0;34m()\u001b[0m\n\u001b[1;32m      3\u001b[0m     \u001b[0;32mfor\u001b[0m \u001b[0mj\u001b[0m \u001b[0;32min\u001b[0m \u001b[0mrange\u001b[0m\u001b[0;34m(\u001b[0m\u001b[0;36m20\u001b[0m\u001b[0;34m)\u001b[0m\u001b[0;34m:\u001b[0m\u001b[0;34m\u001b[0m\u001b[0m\n\u001b[1;32m      4\u001b[0m         \u001b[0;32mif\u001b[0m \u001b[0mi\u001b[0m\u001b[0;34m<\u001b[0m \u001b[0mj\u001b[0m\u001b[0;34m:\u001b[0m\u001b[0;34m\u001b[0m\u001b[0m\n\u001b[0;32m----> 5\u001b[0;31m             \u001b[0mD\u001b[0m\u001b[0;34m[\u001b[0m\u001b[0;34m(\u001b[0m\u001b[0mi\u001b[0m\u001b[0;34m,\u001b[0m\u001b[0mj\u001b[0m\u001b[0;34m)\u001b[0m\u001b[0;34m]\u001b[0m \u001b[0;34m=\u001b[0m \u001b[0mgetDistance\u001b[0m\u001b[0;34m(\u001b[0m\u001b[0mgn\u001b[0m\u001b[0;34m.\u001b[0m\u001b[0mloc\u001b[0m\u001b[0;34m[\u001b[0m\u001b[0mi\u001b[0m\u001b[0;34m]\u001b[0m\u001b[0;34m,\u001b[0m\u001b[0mgn\u001b[0m\u001b[0;34m.\u001b[0m\u001b[0mloc\u001b[0m\u001b[0;34m[\u001b[0m\u001b[0mj\u001b[0m\u001b[0;34m]\u001b[0m\u001b[0;34m,\u001b[0m\u001b[0mPATH_TO_TREES\u001b[0m\u001b[0;34m)\u001b[0m\u001b[0;34m\u001b[0m\u001b[0m\n\u001b[0m",
      "\u001b[0;32m<ipython-input-73-fac0d7d7a1a9>\u001b[0m in \u001b[0;36mgetDistance\u001b[0;34m(seq0, seq1, PATH_TO_TREES)\u001b[0m\n\u001b[1;32m      1\u001b[0m \u001b[0;32mdef\u001b[0m \u001b[0mgetDistance\u001b[0m\u001b[0;34m(\u001b[0m\u001b[0mseq0\u001b[0m\u001b[0;34m,\u001b[0m\u001b[0mseq1\u001b[0m\u001b[0;34m,\u001b[0m\u001b[0mPATH_TO_TREES\u001b[0m\u001b[0;34m)\u001b[0m\u001b[0;34m:\u001b[0m\u001b[0;34m\u001b[0m\u001b[0m\n\u001b[0;32m----> 2\u001b[0;31m     \u001b[0mP0\u001b[0m\u001b[0;34m=\u001b[0m\u001b[0mgetPerturbation\u001b[0m\u001b[0;34m(\u001b[0m\u001b[0mseq0\u001b[0m\u001b[0;34m,\u001b[0m\u001b[0mPATH_TO_TREES\u001b[0m\u001b[0;34m)\u001b[0m\u001b[0;34m\u001b[0m\u001b[0m\n\u001b[0m\u001b[1;32m      3\u001b[0m     \u001b[0mP1\u001b[0m\u001b[0;34m=\u001b[0m\u001b[0mgetPerturbation\u001b[0m\u001b[0;34m(\u001b[0m\u001b[0mseq1\u001b[0m\u001b[0;34m,\u001b[0m\u001b[0mPATH_TO_TREES\u001b[0m\u001b[0;34m)\u001b[0m\u001b[0;34m\u001b[0m\u001b[0m\n\u001b[1;32m      4\u001b[0m     \u001b[0mS\u001b[0m\u001b[0;34m=\u001b[0m\u001b[0;36m0.0\u001b[0m\u001b[0;34m\u001b[0m\u001b[0m\n\u001b[1;32m      5\u001b[0m     \u001b[0mnCount\u001b[0m\u001b[0;34m=\u001b[0m\u001b[0;36m0\u001b[0m\u001b[0;34m\u001b[0m\u001b[0m\n",
      "\u001b[0;32m<ipython-input-75-ce755f6b9b5e>\u001b[0m in \u001b[0;36mgetPerturbation\u001b[0;34m(seq, PATH_TO_TREES)\u001b[0m\n\u001b[1;32m    151\u001b[0m \u001b[0;34m\u001b[0m\u001b[0m\n\u001b[1;32m    152\u001b[0m \u001b[0;32mdef\u001b[0m \u001b[0mgetPerturbation\u001b[0m\u001b[0;34m(\u001b[0m\u001b[0mseq\u001b[0m\u001b[0;34m,\u001b[0m\u001b[0mPATH_TO_TREES\u001b[0m\u001b[0;34m)\u001b[0m\u001b[0;34m:\u001b[0m\u001b[0;34m\u001b[0m\u001b[0m\n\u001b[0;32m--> 153\u001b[0;31m     \u001b[0mF\u001b[0m\u001b[0;34m,\u001b[0m\u001b[0mTREES\u001b[0m\u001b[0;34m=\u001b[0m\u001b[0mgetFmap\u001b[0m\u001b[0;34m(\u001b[0m\u001b[0mPATH_TO_TREES\u001b[0m\u001b[0;34m)\u001b[0m\u001b[0;34m\u001b[0m\u001b[0m\n\u001b[0m\u001b[1;32m    154\u001b[0m     \u001b[0mP\u001b[0m\u001b[0;34m=\u001b[0m\u001b[0;34m{\u001b[0m\u001b[0;34m}\u001b[0m\u001b[0;34m\u001b[0m\u001b[0m\n\u001b[1;32m    155\u001b[0m     \u001b[0;32mfor\u001b[0m \u001b[0mKEY\u001b[0m \u001b[0;32min\u001b[0m \u001b[0mF\u001b[0m\u001b[0;34m.\u001b[0m\u001b[0mkeys\u001b[0m\u001b[0;34m(\u001b[0m\u001b[0;34m)\u001b[0m\u001b[0;34m:\u001b[0m\u001b[0;34m\u001b[0m\u001b[0m\n",
      "\u001b[0;32m<ipython-input-75-ce755f6b9b5e>\u001b[0m in \u001b[0;36mgetFmap\u001b[0;34m(PATH_TO_TREES)\u001b[0m\n\u001b[1;32m    139\u001b[0m     \u001b[0;32mfor\u001b[0m \u001b[0mfilename\u001b[0m \u001b[0;32min\u001b[0m \u001b[0mTREES\u001b[0m\u001b[0;34m:\u001b[0m\u001b[0;34m\u001b[0m\u001b[0m\n\u001b[1;32m    140\u001b[0m         \u001b[0;32mwith\u001b[0m \u001b[0mopen\u001b[0m\u001b[0;34m(\u001b[0m\u001b[0mfilename\u001b[0m\u001b[0;34m,\u001b[0m\u001b[0;34m'rb'\u001b[0m\u001b[0;34m)\u001b[0m \u001b[0;32mas\u001b[0m \u001b[0mf\u001b[0m\u001b[0;34m:\u001b[0m\u001b[0;34m\u001b[0m\u001b[0m\n\u001b[0;32m--> 141\u001b[0;31m             \u001b[0mTR\u001b[0m \u001b[0;34m=\u001b[0m \u001b[0mpickle\u001b[0m\u001b[0;34m.\u001b[0m\u001b[0mload\u001b[0m\u001b[0;34m(\u001b[0m\u001b[0mf\u001b[0m\u001b[0;34m)\u001b[0m\u001b[0;34m\u001b[0m\u001b[0m\n\u001b[0m\u001b[1;32m    142\u001b[0m         \u001b[0mf\u001b[0m\u001b[0;34m.\u001b[0m\u001b[0mclose\u001b[0m\u001b[0;34m(\u001b[0m\u001b[0;34m)\u001b[0m\u001b[0;34m\u001b[0m\u001b[0m\n\u001b[1;32m    143\u001b[0m         \u001b[0mindex\u001b[0m\u001b[0;34m=\u001b[0m\u001b[0mos\u001b[0m\u001b[0;34m.\u001b[0m\u001b[0mpath\u001b[0m\u001b[0;34m.\u001b[0m\u001b[0msplitext\u001b[0m\u001b[0;34m(\u001b[0m\u001b[0mos\u001b[0m\u001b[0;34m.\u001b[0m\u001b[0mpath\u001b[0m\u001b[0;34m.\u001b[0m\u001b[0mbasename\u001b[0m\u001b[0;34m(\u001b[0m\u001b[0mfilename\u001b[0m\u001b[0;34m)\u001b[0m\u001b[0;34m)\u001b[0m\u001b[0;34m[\u001b[0m\u001b[0;36m0\u001b[0m\u001b[0;34m]\u001b[0m\u001b[0;34m.\u001b[0m\u001b[0msplit\u001b[0m\u001b[0;34m(\u001b[0m\u001b[0;34m'_'\u001b[0m\u001b[0;34m)\u001b[0m\u001b[0;34m[\u001b[0m\u001b[0;34m-\u001b[0m\u001b[0;36m1\u001b[0m\u001b[0;34m]\u001b[0m\u001b[0;34m\u001b[0m\u001b[0m\n",
      "\u001b[0;32m/usr/lib64/python2.7/pickle.pyc\u001b[0m in \u001b[0;36mload\u001b[0;34m(file)\u001b[0m\n\u001b[1;32m   1382\u001b[0m \u001b[0;34m\u001b[0m\u001b[0m\n\u001b[1;32m   1383\u001b[0m \u001b[0;32mdef\u001b[0m \u001b[0mload\u001b[0m\u001b[0;34m(\u001b[0m\u001b[0mfile\u001b[0m\u001b[0;34m)\u001b[0m\u001b[0;34m:\u001b[0m\u001b[0;34m\u001b[0m\u001b[0m\n\u001b[0;32m-> 1384\u001b[0;31m     \u001b[0;32mreturn\u001b[0m \u001b[0mUnpickler\u001b[0m\u001b[0;34m(\u001b[0m\u001b[0mfile\u001b[0m\u001b[0;34m)\u001b[0m\u001b[0;34m.\u001b[0m\u001b[0mload\u001b[0m\u001b[0;34m(\u001b[0m\u001b[0;34m)\u001b[0m\u001b[0;34m\u001b[0m\u001b[0m\n\u001b[0m\u001b[1;32m   1385\u001b[0m \u001b[0;34m\u001b[0m\u001b[0m\n\u001b[1;32m   1386\u001b[0m \u001b[0;32mdef\u001b[0m \u001b[0mloads\u001b[0m\u001b[0;34m(\u001b[0m\u001b[0mstr\u001b[0m\u001b[0;34m)\u001b[0m\u001b[0;34m:\u001b[0m\u001b[0;34m\u001b[0m\u001b[0m\n",
      "\u001b[0;32m/usr/lib64/python2.7/pickle.pyc\u001b[0m in \u001b[0;36mload\u001b[0;34m(self)\u001b[0m\n\u001b[1;32m    862\u001b[0m             \u001b[0;32mwhile\u001b[0m \u001b[0;36m1\u001b[0m\u001b[0;34m:\u001b[0m\u001b[0;34m\u001b[0m\u001b[0m\n\u001b[1;32m    863\u001b[0m                 \u001b[0mkey\u001b[0m \u001b[0;34m=\u001b[0m \u001b[0mread\u001b[0m\u001b[0;34m(\u001b[0m\u001b[0;36m1\u001b[0m\u001b[0;34m)\u001b[0m\u001b[0;34m\u001b[0m\u001b[0m\n\u001b[0;32m--> 864\u001b[0;31m                 \u001b[0mdispatch\u001b[0m\u001b[0;34m[\u001b[0m\u001b[0mkey\u001b[0m\u001b[0;34m]\u001b[0m\u001b[0;34m(\u001b[0m\u001b[0mself\u001b[0m\u001b[0;34m)\u001b[0m\u001b[0;34m\u001b[0m\u001b[0m\n\u001b[0m\u001b[1;32m    865\u001b[0m         \u001b[0;32mexcept\u001b[0m \u001b[0m_Stop\u001b[0m\u001b[0;34m,\u001b[0m \u001b[0mstopinst\u001b[0m\u001b[0;34m:\u001b[0m\u001b[0;34m\u001b[0m\u001b[0m\n\u001b[1;32m    866\u001b[0m             \u001b[0;32mreturn\u001b[0m \u001b[0mstopinst\u001b[0m\u001b[0;34m.\u001b[0m\u001b[0mvalue\u001b[0m\u001b[0;34m\u001b[0m\u001b[0m\n",
      "\u001b[0;32m/usr/lib64/python2.7/pickle.pyc\u001b[0m in \u001b[0;36mload_global\u001b[0;34m(self)\u001b[0m\n\u001b[1;32m   1093\u001b[0m     \u001b[0;32mdef\u001b[0m \u001b[0mload_global\u001b[0m\u001b[0;34m(\u001b[0m\u001b[0mself\u001b[0m\u001b[0;34m)\u001b[0m\u001b[0;34m:\u001b[0m\u001b[0;34m\u001b[0m\u001b[0m\n\u001b[1;32m   1094\u001b[0m         \u001b[0mmodule\u001b[0m \u001b[0;34m=\u001b[0m \u001b[0mself\u001b[0m\u001b[0;34m.\u001b[0m\u001b[0mreadline\u001b[0m\u001b[0;34m(\u001b[0m\u001b[0;34m)\u001b[0m\u001b[0;34m[\u001b[0m\u001b[0;34m:\u001b[0m\u001b[0;34m-\u001b[0m\u001b[0;36m1\u001b[0m\u001b[0;34m]\u001b[0m\u001b[0;34m\u001b[0m\u001b[0m\n\u001b[0;32m-> 1095\u001b[0;31m         \u001b[0mname\u001b[0m \u001b[0;34m=\u001b[0m \u001b[0mself\u001b[0m\u001b[0;34m.\u001b[0m\u001b[0mreadline\u001b[0m\u001b[0;34m(\u001b[0m\u001b[0;34m)\u001b[0m\u001b[0;34m[\u001b[0m\u001b[0;34m:\u001b[0m\u001b[0;34m-\u001b[0m\u001b[0;36m1\u001b[0m\u001b[0;34m]\u001b[0m\u001b[0;34m\u001b[0m\u001b[0m\n\u001b[0m\u001b[1;32m   1096\u001b[0m         \u001b[0mklass\u001b[0m \u001b[0;34m=\u001b[0m \u001b[0mself\u001b[0m\u001b[0;34m.\u001b[0m\u001b[0mfind_class\u001b[0m\u001b[0;34m(\u001b[0m\u001b[0mmodule\u001b[0m\u001b[0;34m,\u001b[0m \u001b[0mname\u001b[0m\u001b[0;34m)\u001b[0m\u001b[0;34m\u001b[0m\u001b[0m\n\u001b[1;32m   1097\u001b[0m         \u001b[0mself\u001b[0m\u001b[0;34m.\u001b[0m\u001b[0mappend\u001b[0m\u001b[0;34m(\u001b[0m\u001b[0mklass\u001b[0m\u001b[0;34m)\u001b[0m\u001b[0;34m\u001b[0m\u001b[0m\n",
      "\u001b[0;31mKeyboardInterrupt\u001b[0m: "
     ]
    }
   ],
   "source": [
    "D={}\n",
    "for i in tqdm(range(20)):\n",
    "    for j in range(20):\n",
    "        if i< j:\n",
    "            D[(i,j)] = getDistance(gn.loc[i],gn.loc[j],PATH_TO_TREES)\n"
   ]
  },
  {
   "cell_type": "code",
   "execution_count": null,
   "metadata": {},
   "outputs": [],
   "source": [
    "H=np.zeros([71,71])\n",
    "for key,value in D.iteritems():\n",
    "    i=key[0]\n",
    "    j=key[1]\n",
    "    H[i][j]=value\n",
    "    H[j][i]=value"
   ]
  }
 ],
 "metadata": {
  "kernelspec": {
   "display_name": "Python 2",
   "language": "python",
   "name": "python2"
  },
  "language_info": {
   "codemirror_mode": {
    "name": "ipython",
    "version": 2
   },
   "file_extension": ".py",
   "mimetype": "text/x-python",
   "name": "python",
   "nbconvert_exporter": "python",
   "pygments_lexer": "ipython2",
   "version": "2.7.15"
  }
 },
 "nbformat": 4,
 "nbformat_minor": 2
}
