{
 "cells": [
  {
   "cell_type": "code",
   "execution_count": 3,
   "metadata": {},
   "outputs": [],
   "source": [
    "import numpy as np\n",
    "import os\n",
    "import sys\n",
    "sys.path.append('../')\n",
    "import mlx as ml \n",
    "import warnings\n",
    "import operator\n",
    "import pickle\n",
    "import glob\n",
    "import pylab as plt\n",
    "%matplotlib inline\n",
    "import pandas as pd\n",
    "from tqdm import tqdm\n",
    "DEBUG=False"
   ]
  },
  {
   "cell_type": "code",
   "execution_count": 32,
   "metadata": {},
   "outputs": [],
   "source": [
    "def dictprod(dict_,a=1.0):\n",
    "    '''\n",
    "        given a dict of probability distributions \n",
    "        represented as such: {'key1': val1, ... ,'keyn':valn}\n",
    "        multiply all values with the second argument `a`\n",
    "    '''\n",
    "    return {key:value*a for (key,value) in dict_.iteritems()}\n",
    " \n",
    "def normalizedict(dict_):\n",
    "    '''\n",
    "        given a dict represented as such: {'key1': val1, ... ,'keyn':valn}\n",
    "        scale all values such that they sum to 1.0    \n",
    "    '''\n",
    "    s=0.0\n",
    "    for key in dict_.keys():\n",
    "        s=s+dict_[key]\n",
    "    return {key:(value/s) for (key,value) in dict_.iteritems()}\n",
    "\n",
    "def mergedistributions(dist_):\n",
    "    '''\n",
    "        given a dict of dicts, each represented as such: {'key1': val1, ... ,'keyn':valn}\n",
    "        we retun a combined dict, where values corresponding  to key1 is the average over \n",
    "        all component dicts\n",
    "    '''\n",
    "    num=len(dist_.keys())\n",
    "    key_list=[]\n",
    "    for key in dist_.keys():\n",
    "        key_list=np.append(key_list,dist_[key].keys())\n",
    "        \n",
    "    D={}\n",
    "    for key in key_list:\n",
    "        D[key]=0.0\n",
    "        \n",
    "    for count in dist_.keys():\n",
    "        for key_ in dist_[count].keys():\n",
    "            if key_ in dist_[count]:\n",
    "                D[key_]=D[key_]+dist_[count][key_]\n",
    "    return {key:value/(num+0.0) for (key,value) in D.iteritems() }\n",
    "\n",
    "def getMergedDistribution(tree,cond={}):\n",
    "    '''\n",
    "        get distribution over keys given particular\n",
    "        constriants (cond) on the decision tree\n",
    "        \n",
    "        Arguments:\n",
    "        \n",
    "        tree: decision tree returned by mlx.py\n",
    "        cond: conditions that specify constraints\n",
    "              on the decision tree\n",
    "        \n",
    "    '''\n",
    "    node_id_map={feature_name:np.array([], dtype=int) for (i,feature_name) in tree.feature.iteritems()}\n",
    "    for (i,feature_name) in tree.feature.iteritems():\n",
    "        node_id_map[feature_name]=np.append(node_id_map[feature_name],int(i))\n",
    "    \n",
    "    if DEBUG:\n",
    "        print(node_id_map)\n",
    "    #propagate to find current nodes\n",
    "    children={i:set() for i in cond.keys()}\n",
    "    for feature_name in cond.keys():\n",
    "        for node_id in tree.feature:\n",
    "            if tree.feature[node_id] == feature_name:\n",
    "                children[feature_name]=children[feature_name].union(tree.children[node_id])\n",
    "    if DEBUG:\n",
    "        print(children)\n",
    "\n",
    "    current_active_nodes=np.array([],int)\n",
    "    for feature_name in cond.keys():\n",
    "        for child in children[feature_name]:\n",
    "            for parent in node_id_map[feature_name]:\n",
    "                if (parent,child) in tree.edge_cond_:\n",
    "                    for edge_var in cond[feature_name]:\n",
    "                        if edge_var in tree.edge_cond_[(parent,child)]:\n",
    "                            if DEBUG:\n",
    "                                print(parent,child,\"::\",tree.edge_cond_[(parent,child)])\n",
    "                            current_active_nodes=np.append(current_active_nodes,child)\n",
    "    \n",
    "    S=0.0\n",
    "    if current_active_nodes.size == 0:\n",
    "        current_active_nodes=np.array([1],int)\n",
    "    for i in current_active_nodes:\n",
    "        S=S+tree.num_pass_[i]\n",
    "        \n",
    "    indexed_dist={i:dictprod(tree.class_pred_[i],tree.num_pass_[i]/S) for i in current_active_nodes}\n",
    "    dist_=normalizedict(mergedistributions(indexed_dist))\n",
    "        \n",
    "    if DEBUG:\n",
    "        print(children)\n",
    "        print(current_active_nodes)\n",
    "        print(\"ID\",indexed_dist)\n",
    "        print(\"MD\",mergedistributions(indexed_dist))\n",
    "        print(\"ND\",normalizedict(mergedistributions(indexed_dist)))\n",
    "        \n",
    "    return dist_  \n",
    "    \n",
    "def sampleTree(tree,cond={},sample='mle',DIST=False,NUMSAMPLE=10):\n",
    "    '''\n",
    "        draw sample from decision tree\n",
    "        specified in the format that \n",
    "        mlx.py returns\n",
    "        \n",
    "        Arguments:\n",
    "        \n",
    "        1. cond: dict of the format {'name': value, 'name1': value1,...}\n",
    "                 specifies the constraints on the decision tree.\n",
    "                 example: {'RBM34':'C','SOX2': 'A'}\n",
    "        \n",
    "        Note--> we can use arbitrary cond argument, irrespective of if the\n",
    "        names are in the decision tree at all or not. Also, we can use \n",
    "        an empty cond dict, which corresponds to the unconstrained tree.\n",
    "        In all these cases, it makes sense to ask what is the distribution on the \n",
    "        keys that the decision tree outputs, and we attempt to compute that.\n",
    "        \n",
    "        2. sample: 'mle'|'random' \n",
    "                   if 'mle' then return the value with maximum probability.\n",
    "                   if 'random' then makes random choice NUMSAMPLE times \n",
    "                   and returns the result.\n",
    "        \n",
    "        3. DIST: TRUE|FALSE\n",
    "                 if TRUE returns the distribution from the tree \n",
    "                 after applying the constraints\n",
    "    '''\n",
    "    dist_=getMergedDistribution(tree,cond=cond)\n",
    "    if sample is 'mle':\n",
    "        sample=max(dist_.iteritems(), key=operator.itemgetter(1))[0]\n",
    "    if sample is 'random':\n",
    "        probs = dist_.values()\n",
    "        keys =  dist_.keys()\n",
    "\n",
    "        sample = np.random.choice(keys,NUMSAMPLE, replace=True, p=probs)\n",
    "    if DIST:\n",
    "        return sample,dist_\n",
    "    return sample\n",
    "\n",
    "def getFmap(PATH_TO_TREES):\n",
    "    F={}\n",
    "    TREE={}\n",
    "    TREES=glob.glob(PATH_TO_TREES)\n",
    "    for filename in tqdm(TREES):\n",
    "        with open(filename,'rb') as f:\n",
    "            TR = pickle.load(f)\n",
    "        f.close()\n",
    "        index=os.path.splitext(os.path.basename(filename))[0].split('_')[-1]\n",
    "        #print index\n",
    "        F[index]=[]\n",
    "        TREE[index]=TR\n",
    "        for key,value in TR.feature.iteritems():\n",
    "            if not TR.TREE_LEAF[key]:\n",
    "                F[index]=np.append(F[index],value)\n",
    "    return F,TREE"
   ]
  },
  {
   "cell_type": "code",
   "execution_count": 22,
   "metadata": {},
   "outputs": [],
   "source": [
    "PATH_TO_TREES='../../cchf/cchfl_trees/*pkl'\n",
    "gn=pd.read_csv('../../cchf/cchfl_test.csv')\n",
    "seq=gn.loc[0]"
   ]
  },
  {
   "cell_type": "code",
   "execution_count": 23,
   "metadata": {},
   "outputs": [
    {
     "name": "stdout",
     "output_type": "stream",
     "text": [
      "../../cchf/cchfl_trees/75_cchfl_P668.pkl\n",
      "{1: 'P1955', 2: '2', 3: 'P2350', 4: '4', 5: '5'}\n",
      "{(1, 2): ['A'], (1, 3): ['C', 'T', 'G'], (3, 4): ['A', 'C', 'G'], (3, 5): ['T']}\n",
      "{1: {'A': 2.0, 'C': 36.0, 'T': 3.0, 'G': 30.0}, 2: {'A': 0.0, 'C': 0.0, 'T': 0.0, 'G': 30.0}, 3: {'A': 2.0, 'C': 36.0, 'T': 3.0, 'G': 0.0}, 4: {'A': 2.0, 'C': 4.0, 'T': 3.0, 'G': 0.0}, 5: {'A': 0.0, 'C': 32.0, 'T': 0.0, 'G': 0.0}}\n"
     ]
    }
   ],
   "source": [
    "TREENAMES=glob.glob(PATH_TO_TREES)\n",
    "index=100\n",
    "with open(TREENAMES[index],'rb') as f:\n",
    "    TR = pickle.load(f)\n",
    "\n",
    "print TREES[index]\n",
    "print TR.feature\n",
    "print TR.edge_cond_\n",
    "print TR.class_pred_"
   ]
  },
  {
   "cell_type": "code",
   "execution_count": 24,
   "metadata": {},
   "outputs": [
    {
     "data": {
      "text/plain": [
       "(array(['T', 'C', 'C', 'C', 'C', 'C', 'C', 'C', 'C', 'C'], dtype='|S1'),\n",
       " {'A': 0.04878048780487805,\n",
       "  'C': 0.8780487804878049,\n",
       "  'G': 0.0,\n",
       "  'T': 0.07317073170731707})"
      ]
     },
     "execution_count": 24,
     "metadata": {},
     "output_type": "execute_result"
    }
   ],
   "source": [
    "sampleTree(TR,{'P1955':'T'},sample='random',DIST=True)"
   ]
  },
  {
   "cell_type": "code",
   "execution_count": 33,
   "metadata": {},
   "outputs": [
    {
     "name": "stderr",
     "output_type": "stream",
     "text": [
      "100%|██████████| 4842/4842 [00:04<00:00, 1152.41it/s]\n"
     ]
    }
   ],
   "source": [
    "F,TREES=getFmap(PATH_TO_TREES)"
   ]
  },
  {
   "cell_type": "code",
   "execution_count": 36,
   "metadata": {},
   "outputs": [
    {
     "data": {
      "text/plain": [
       "{'P141': 'A', 'P4651': 'A', 'P60': 'C'}"
      ]
     },
     "execution_count": 36,
     "metadata": {},
     "output_type": "execute_result"
    }
   ],
   "source": [
    "KEY='P93'\n",
    "I=[int(x.replace('P','')) for x in F[KEY]]\n",
    "v=[seq[i] for i in I]\n",
    "DICT_={'P'+str(i):seq[i] for i in I}\n",
    "DICT_"
   ]
  },
  {
   "cell_type": "code",
   "execution_count": 38,
   "metadata": {},
   "outputs": [
    {
     "data": {
      "text/plain": [
       "{'A': 0.0, 'C': 0.07647202540923528, 'G': 0.0, 'T': 0.9235279745907646}"
      ]
     },
     "execution_count": 38,
     "metadata": {},
     "output_type": "execute_result"
    }
   ],
   "source": [
    "sampleTree(TREES[KEY],DICT_,sample='random',DIST=True)[1]"
   ]
  },
  {
   "cell_type": "code",
   "execution_count": 74,
   "metadata": {},
   "outputs": [],
   "source": [
    "def getSTD(dct):\n",
    "    A=[]\n",
    "    for key,value in dct.iteritems():\n",
    "        A=np.append(A,value)\n",
    "    return 1-np.max(A)"
   ]
  },
  {
   "cell_type": "code",
   "execution_count": 75,
   "metadata": {},
   "outputs": [],
   "source": [
    "def getPerturbation(seq,PATH_TO_TREES):\n",
    "    F,TREES=getFmap(PATH_TO_TREES)\n",
    "    P={}\n",
    "    Q={}\n",
    "    for KEY in tqdm(F.keys()):\n",
    "        I=[int(x.replace('P','')) for x in F[KEY]]\n",
    "        DICT_={'P'+str(i):seq[i] for i in I}\n",
    "        P[KEY]=sampleTree(TREES[KEY],DICT_,sample='random',DIST=True)[1]\n",
    "        \n",
    "        Q[int(KEY.replace('P',''))] = getSTD(P[KEY])\n",
    "    return P,Q"
   ]
  },
  {
   "cell_type": "code",
   "execution_count": 76,
   "metadata": {},
   "outputs": [
    {
     "name": "stderr",
     "output_type": "stream",
     "text": [
      "100%|██████████| 4842/4842 [00:04<00:00, 1050.74it/s]\n",
      "100%|██████████| 4842/4842 [00:01<00:00, 3515.01it/s]\n"
     ]
    }
   ],
   "source": [
    "P,Q=getPerturbation(seq,PATH_TO_TREES)"
   ]
  },
  {
   "cell_type": "code",
   "execution_count": 77,
   "metadata": {},
   "outputs": [],
   "source": [
    "X=[]\n",
    "Y=[]\n",
    "for key,value in Q.iteritems():\n",
    "    X=np.append(X,key)\n",
    "    Y=np.append(Y,value)\n",
    "    "
   ]
  },
  {
   "cell_type": "code",
   "execution_count": 78,
   "metadata": {},
   "outputs": [
    {
     "data": {
      "text/plain": [
       "[<matplotlib.lines.Line2D at 0x7fc95fe50290>]"
      ]
     },
     "execution_count": 78,
     "metadata": {},
     "output_type": "execute_result"
    },
    {
     "data": {
      "image/png": "[encoded data removed]",
      "text/plain": [
       "<Figure size 432x288 with 1 Axes>"
      ]
     },
     "metadata": {
      "needs_background": "light"
     },
     "output_type": "display_data"
    }
   ],
   "source": [
    "plt.plot(X,Y,'k.')"
   ]
  },
  {
   "cell_type": "code",
   "execution_count": 79,
   "metadata": {},
   "outputs": [
    {
     "data": {
      "text/plain": [
       "0.16216216216216217"
      ]
     },
     "execution_count": 79,
     "metadata": {},
     "output_type": "execute_result"
    }
   ],
   "source": [
    "Q[3001]"
   ]
  },
  {
   "cell_type": "code",
   "execution_count": 80,
   "metadata": {},
   "outputs": [
    {
     "data": {
      "text/plain": [
       "0.0"
      ]
     },
     "execution_count": 80,
     "metadata": {},
     "output_type": "execute_result"
    }
   ],
   "source": [
    "Y[3001]"
   ]
  },
  {
   "cell_type": "code",
   "execution_count": 81,
   "metadata": {},
   "outputs": [],
   "source": [
    "qD=pd.DataFrame(Y,index=X)"
   ]
  },
  {
   "cell_type": "code",
   "execution_count": 82,
   "metadata": {},
   "outputs": [
    {
     "data": {
      "text/plain": [
       "array([[<matplotlib.axes._subplots.AxesSubplot object at 0x7fc9602e0690>]],\n",
       "      dtype=object)"
      ]
     },
     "execution_count": 82,
     "metadata": {},
     "output_type": "execute_result"
    },
    {
     "data": {
      "image/png": "[encoded data removed]",
      "text/plain": [
       "<Figure size 432x288 with 1 Axes>"
      ]
     },
     "metadata": {
      "needs_background": "light"
     },
     "output_type": "display_data"
    }
   ],
   "source": [
    "qD.hist()"
   ]
  },
  {
   "cell_type": "code",
   "execution_count": 83,
   "metadata": {},
   "outputs": [
    {
     "data": {
      "text/plain": [
       "{'A': 0.00693069306930693,\n",
       " 'C': 0.02079207920792079,\n",
       " 'G': 0.00693069306930693,\n",
       " 'T': 0.9653465346534653}"
      ]
     },
     "execution_count": 83,
     "metadata": {},
     "output_type": "execute_result"
    }
   ],
   "source": [
    "P['P3000']"
   ]
  },
  {
   "cell_type": "code",
   "execution_count": 98,
   "metadata": {},
   "outputs": [
    {
     "data": {
      "text/plain": [
       "[<matplotlib.lines.Line2D at 0x7fc960f15e10>]"
      ]
     },
     "execution_count": 98,
     "metadata": {},
     "output_type": "execute_result"
    },
    {
     "data": {
      "image/png": "[encoded data removed]",
      "text/plain": [
       "<Figure size 432x288 with 1 Axes>"
      ]
     },
     "metadata": {
      "needs_background": "light"
     },
     "output_type": "display_data"
    }
   ],
   "source": [
    "\n",
    "plt.plot(qD.ewm(com=20).mean().values[0:1000])"
   ]
  },
  {
   "cell_type": "code",
   "execution_count": 99,
   "metadata": {},
   "outputs": [
    {
     "name": "stderr",
     "output_type": "stream",
     "text": [
      "100%|██████████| 4842/4842 [00:04<00:00, 1092.64it/s]\n",
      "100%|██████████| 4842/4842 [00:01<00:00, 3509.04it/s]\n",
      "100%|██████████| 4842/4842 [00:04<00:00, 1067.62it/s]\n",
      "100%|██████████| 4842/4842 [00:01<00:00, 3510.46it/s]\n"
     ]
    }
   ],
   "source": [
    "seq0=gn.loc[1]\n",
    "seq1=gn.loc[20]\n",
    "P0,Q0=getPerturbation(seq0,PATH_TO_TREES)\n",
    "P1,Q1=getPerturbation(seq1,PATH_TO_TREES)"
   ]
  },
  {
   "cell_type": "code",
   "execution_count": 101,
   "metadata": {},
   "outputs": [],
   "source": [
    "def getDistance(seq0,seq1,PATH_TO_TREES):\n",
    "    P0,Q0=getPerturbation(seq0,PATH_TO_TREES)\n",
    "    P1,Q1=getPerturbation(seq1,PATH_TO_TREES)\n",
    "    S=0.0\n",
    "    for key in P0.keys():\n",
    "        \n",
    "        A=[]\n",
    "        B=[]\n",
    "        for key0,value0 in P0[key].iteritems():\n",
    "            A=np.append(A,value0)\n",
    "            B=np.append(B,P1[key][key0])\n",
    "            \n",
    "        S=S+np.max(np.abs(A-B))    \n",
    "         \n",
    "    return S/(0.0+len(P0.keys()))      \n",
    "            "
   ]
  },
  {
   "cell_type": "code",
   "execution_count": 105,
   "metadata": {},
   "outputs": [
    {
     "name": "stderr",
     "output_type": "stream",
     "text": [
      "100%|██████████| 4842/4842 [00:04<00:00, 1061.99it/s]\n",
      "100%|██████████| 4842/4842 [00:01<00:00, 3400.23it/s]\n",
      "100%|██████████| 4842/4842 [00:04<00:00, 1078.91it/s]\n",
      "100%|██████████| 4842/4842 [00:01<00:00, 3123.46it/s]\n"
     ]
    },
    {
     "data": {
      "text/plain": [
       "0.40262786059858385"
      ]
     },
     "execution_count": 105,
     "metadata": {},
     "output_type": "execute_result"
    }
   ],
   "source": [
    "getDistance(seq1,gn.loc[69],PATH_TO_TREES)"
   ]
  },
  {
   "cell_type": "code",
   "execution_count": 104,
   "metadata": {},
   "outputs": [
    {
     "data": {
      "text/plain": [
       "71"
      ]
     },
     "execution_count": 104,
     "metadata": {},
     "output_type": "execute_result"
    }
   ],
   "source": [
    "gn.index.size"
   ]
  },
  {
   "cell_type": "code",
   "execution_count": 106,
   "metadata": {},
   "outputs": [
    {
     "name": "stderr",
     "output_type": "stream",
     "text": [
      "100%|██████████| 4842/4842 [00:04<00:00, 1022.47it/s]\n",
      "100%|██████████| 4842/4842 [00:01<00:00, 3508.94it/s]\n",
      "100%|██████████| 4842/4842 [00:04<00:00, 1013.81it/s]\n",
      "100%|██████████| 4842/4842 [00:01<00:00, 3509.53it/s]\n"
     ]
    },
    {
     "data": {
      "text/plain": [
       "0.05979256347294066"
      ]
     },
     "execution_count": 106,
     "metadata": {},
     "output_type": "execute_result"
    }
   ],
   "source": [
    "getDistance(seq1,gn.loc[69],PATH_TO_TREES)"
   ]
  },
  {
   "cell_type": "code",
   "execution_count": null,
   "metadata": {},
   "outputs": [],
   "source": []
  }
 ],
 "metadata": {
  "kernelspec": {
   "display_name": "Python 2",
   "language": "python",
   "name": "python2"
  },
  "language_info": {
   "codemirror_mode": {
    "name": "ipython",
    "version": 2
   },
   "file_extension": ".py",
   "mimetype": "text/x-python",
   "name": "python",
   "nbconvert_exporter": "python",
   "pygments_lexer": "ipython2",
   "version": "2.7.15"
  }
 },
 "nbformat": 4,
 "nbformat_minor": 2
}
