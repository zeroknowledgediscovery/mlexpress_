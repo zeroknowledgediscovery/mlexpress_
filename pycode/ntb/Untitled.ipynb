{
 "cells": [
  {
   "cell_type": "code",
   "execution_count": 50,
   "metadata": {
    "collapsed": false
   },
   "outputs": [],
   "source": [
    "import pandas as pd\n",
    "import numpy as np\n",
    "import pygraphviz as pgv"
   ]
  },
  {
   "cell_type": "code",
   "execution_count": 147,
   "metadata": {
    "collapsed": false
   },
   "outputs": [
    {
     "name": "stdout",
     "output_type": "stream",
     "text": [
      "digraph {\n",
      "\tgraph [bb=\"0,0,0,0\"];\n",
      "\tnode [label=\"\\N\",\n",
      "\t\tshape=box\n",
      "\t];\n",
      "\tIFNAR1 -> EGFR;\n",
      "\tZNF395 -> IFNAR1;\n",
      "\tSNX13 -> ZNF395;\n",
      "\tSNX13 -> FUT1;\n",
      "\tSNX13 -> ARNT2;\n",
      "\tFUT1 -> ZNF395;\n",
      "\tFUT1 -> MEST;\n",
      "\tFUT1 -> FAM69A;\n",
      "\tFUT1 -> PTPRC;\n",
      "\tARNT2 -> TESK1;\n",
      "\tHYOU1 -> SNX13;\n",
      "\tRPA3 -> HYOU1;\n",
      "\tPOLE2 -> RPA3;\n",
      "\tPOLE2 -> SLC25A13;\n",
      "\tSLC25A13 -> LGMN;\n",
      "\tTOP2A -> POLE2;\n",
      "\tTOP2A -> UBE2C;\n",
      "\tUBE2C -> TOP2A;\n",
      "\tUBE2C -> YKT6;\n",
      "\tUBE2C -> CDK1;\n",
      "\tYKT6 -> UBE2C;\n",
      "\tCDK1 -> TOP2A;\n",
      "\tCDK1 -> CTSL;\n",
      "\tMYC -> EGFR;\n",
      "\tHIST2H2BE -> MYC;\n",
      "\tTRAPPC6A -> HIST2H2BE;\n",
      "\tMEST -> TRAPPC6A;\n",
      "\tFAM69A -> FUT1;\n",
      "\tPTPRC -> PTK2B;\n",
      "\tCTSL -> FOSL1;\n",
      "\tCOL1A1 -> MYC;\n",
      "\tCOL1A1 -> EXOSC4;\n",
      "\tEXOSC4 -> COL1A1;\n",
      "\tPTK2B -> IFNAR1;\n",
      "\tABCF1 -> PTK2B;\n",
      "\tABCF1 -> MAT2A;\n",
      "\tMAT2A -> ABCF1;\n",
      "\tTESK1 -> ABCF1;\n",
      "\tTESK1 -> PIK3CA;\n",
      "\tPIK3CA -> TESK1;\n",
      "\tCDK4 -> MAT2A;\n",
      "\tCDK4 -> PAICS;\n",
      "\tPAICS -> CDK4;\n",
      "\tEIF4EBP1 -> CDK4;\n",
      "\tPHGDH -> EIF4EBP1;\n",
      "\tPHGDH -> MTHFD2;\n",
      "\tMTHFD2 -> PHGDH;\n",
      "\tPYCR1 -> PHGDH;\n",
      "\tKDELR2 -> PYCR1;\n",
      "\tKDELR2 -> CALU;\n",
      "\tCALU -> KDELR2;\n",
      "\tRBM34 -> EGF;\n",
      "\tRSU1 -> RBM34;\n",
      "\tARID4B -> RSU1;\n",
      "\tARID4B -> IGF2BP2;\n",
      "\tIGF2BP2 -> ARID4B;\n",
      "\tMYO10 -> EGFR;\n",
      "\tSPTAN1 -> MYO10;\n",
      "\tCOPB2 -> SPTAN1;\n",
      "\tCOPB2 -> DRAP1;\n",
      "\tDRAP1 -> SESN1;\n",
      "\tMAN2B1 -> COPB2;\n",
      "\tPLA2G15 -> MAN2B1;\n",
      "\tPLA2G15 -> LGMN;\n",
      "\tLGMN -> PLA2G15;\n",
      "\tSESN1 -> EGFR;\n",
      "\tFOSL1 -> DRAP1;\n",
      "\tFOSL1 -> STX1A;\n",
      "\tFOSL1 -> TXLNA;\n",
      "\tSTX1A -> FOSL1;\n",
      "\tTXLNA -> CDKN2A;\n",
      "\tITGB5 -> EGFR;\n",
      "\tDCTD -> ITGB5;\n",
      "\tBIRC5 -> DCTD;\n",
      "\tBIRC5 -> CCNA2;\n",
      "\tCCNA2 -> BIRC5;\n",
      "\tFHL2 -> EGFR;\n",
      "\tTPM1 -> FHL2;\n",
      "\tILK -> TPM1;\n",
      "\tILK -> TBC1D31;\n",
      "\tTBC1D31 -> ILK;\n",
      "\tRFX5 -> EGFR;\n",
      "\tTM9SF2 -> RFX5;\n",
      "\tBUB1B -> TM9SF2;\n",
      "\tBUB1B -> DNMT1;\n",
      "\tDNMT1 -> BUB1B;\n",
      "\tFKBP14 -> CALU;\n",
      "\tPSMD2 -> FKBP14;\n",
      "\tDNTTIP2 -> PSMD2;\n",
      "\tJMJD6 -> DNTTIP2;\n",
      "\tJMJD6 -> BAG3;\n",
      "\tBAG3 -> JMJD6;\n",
      "\tHSPA1A -> BAG3;\n",
      "\tDNAJB1 -> HSPA1A;\n",
      "\tDNAJB1 -> RAD9A;\n",
      "\tRAD9A -> MYC;\n",
      "\tCCNB2 -> DNAJB1;\n",
      "\tCCNB2 -> KIF20A;\n",
      "\tKIF20A -> CCNB2;\n",
      "\tCDKN2A -> MYC;\n",
      "\tNOLC1 -> MYC;\n",
      "\tUSP1 -> NOLC1;\n",
      "\tEZH2 -> USP1;\n",
      "\tCDC25A -> EZH2;\n",
      "\tLIPA -> CDC25A;\n",
      "\tPSME1 -> LIPA;\n",
      "\tPSME1 -> AKR7A2;\n",
      "\tPSME1 -> TSTA3;\n",
      "\tAKR7A2 -> PSME1;\n",
      "\tTSTA3 -> POLR2I;\n",
      "\tNCOA3 -> MYC;\n",
      "\tCD320 -> NCOA3;\n",
      "\tPARP1 -> CD320;\n",
      "\tMYCBP -> PARP1;\n",
      "\tMYCBP -> HSD17B10;\n",
      "\tHSD17B10 -> MYCBP;\n",
      "\tPOLR2I -> MYC;\n",
      "}\n",
      "\n"
     ]
    }
   ],
   "source": [
    "E=pd.read_csv('../../data/res.dat',sep=\" \",header=None,names=['src','x','tgt']).drop('x',axis=1).values\n",
    "\n",
    "G=pgv.AGraph(strict=False,directed=True)\n",
    "G.node_attr['shape']='box'\n",
    "G.layout(prog='dot')\n",
    "\n",
    "for e in E:\n",
    "    G.add_edge(e[0],e[1])\n",
    "\n",
    "print G\n",
    "\n",
    "G.write(\"file.dot\")\n",
    "!dot -Tpng file.dot -o file.png"
   ]
  },
  {
   "cell_type": "code",
   "execution_count": null,
   "metadata": {
    "collapsed": true
   },
   "outputs": [],
   "source": []
  },
  {
   "cell_type": "code",
   "execution_count": null,
   "metadata": {
    "collapsed": true
   },
   "outputs": [],
   "source": []
  },
  {
   "cell_type": "code",
   "execution_count": null,
   "metadata": {
    "collapsed": true
   },
   "outputs": [],
   "source": []
  }
 ],
 "metadata": {
  "kernelspec": {
   "display_name": "Python 2",
   "language": "python",
   "name": "python2"
  },
  "language_info": {
   "codemirror_mode": {
    "name": "ipython",
    "version": 2
   },
   "file_extension": ".py",
   "mimetype": "text/x-python",
   "name": "python",
   "nbconvert_exporter": "python",
   "pygments_lexer": "ipython2",
   "version": "2.7.11"
  }
 },
 "nbformat": 4,
 "nbformat_minor": 0
}
