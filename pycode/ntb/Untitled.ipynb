{
 "cells": [
  {
   "cell_type": "code",
   "execution_count": 17,
   "metadata": {},
   "outputs": [],
   "source": [
    "import numpy as np\n",
    "import pandas as pd\n",
    "import subprocess\n",
    "import os\n",
    "import sys\n",
    "sys.path.append('../')\n",
    "import mlx as ml \n",
    "import matplotlib.pyplot as plt\n",
    "import pandas as pd\n",
    "import seaborn as sns\n",
    "import scipy.stats as stat \n",
    "import argparse\n",
    "import sparkline\n",
    "import warnings\n",
    "import tempfile\n",
    "import operator\n",
    "import pickle"
   ]
  },
  {
   "cell_type": "raw",
   "metadata": {},
   "source": [
    "--file qdat22.dat --filex qdat22.dat --varimp True \n",
    "--response DDR1 --zerodel B --del CELL --importance_threshold 0.01"
   ]
  },
  {
   "cell_type": "code",
   "execution_count": 15,
   "metadata": {},
   "outputs": [],
   "source": [
    "RESPONSE='DDR1'\n",
    "FILE='../../data/qdat22.dat'\n",
    "FILEx='../../data/qdat22.dat'\n",
    "VERBOSE=False\n",
    "CORES=10\n",
    "VARIMP=True\n",
    "NUMTREE=300\n",
    "PLOT=False\n",
    "DELETE='CELL'\n",
    "INCLUDE=''\n",
    "INCLUDEONLY=''\n",
    "TREENAME='Tree'\n",
    "BALANCE=True\n",
    "ZERODEL='B'\n",
    "FEATURE_IMP_THRESHOLD=0.01\n",
    "SAMPLECOL=False\n",
    "SAMPLES=10"
   ]
  },
  {
   "cell_type": "raw",
   "metadata": {},
   "source": [
    "#------------------------------\n",
    "RS=[RESPONSE]\n",
    "if INCLUDE != \"\":\n",
    "    INCLUDE=list(set(list(set(INCLUDE)).extend(RS)))\n",
    "    \n",
    "INPUTFILE_=\"\"\n",
    "    \n",
    "datatrain=ml.setdataframe(FILE,outname=INPUTFILE_,\n",
    "                          delete_=DELETE,\n",
    "                          include_=INCLUDEONLY,\n",
    "                          select_col=SAMPLECOL,\n",
    "                          rand_col_sel=SAMPLES,\n",
    "                          response_var=RS,\n",
    "                          balance=BALANCE,\n",
    "                          zerodel=ZERODEL)\n",
    "\n",
    "datatest=ml.setdataframe(FILEx,\n",
    "                         include_=datatrain.columns,\n",
    "                         response_var=RS,\n",
    "                         zerodel=ZERODEL)\n",
    "\n",
    "CT,Pr,ACC,CF,Prx,ACCx,CFx,TR=ml.Xctree(RESPONSE__=RESPONSE,\n",
    "                                       datatrain__=datatrain,\n",
    "                                       datatest__=datatest,\n",
    "                                       VERBOSE=VERBOSE,\n",
    "                                       TREE_EXPORT=False)\n",
    "if TR is not None:\n",
    "    sorted_feature_imp = sorted(TR.significant_feature_weight_.items(),\n",
    "                                key=operator.itemgetter(1))\n",
    "    for i in sorted_feature_imp:\n",
    "        if i[1] > FEATURE_IMP_THRESHOLD:\n",
    "            print i[0],RS[0],i[1]\n",
    "else:\n",
    "    print \"XX\",RS[0],0.0\n"
   ]
  },
  {
   "cell_type": "code",
   "execution_count": 18,
   "metadata": {},
   "outputs": [],
   "source": [
    "with open('../../data/tree.pkl','rb') as f:\n",
    "    TR = pickle.load(f)"
   ]
  },
  {
   "cell_type": "code",
   "execution_count": 25,
   "metadata": {},
   "outputs": [
    {
     "data": {
      "text/plain": [
       "{(1, 2): ['A', 'B'],\n",
       " (1, 13): ['C'],\n",
       " (2, 3): ['A', 'B'],\n",
       " (2, 12): ['C'],\n",
       " (3, 4): ['A', 'B'],\n",
       " (3, 11): ['C'],\n",
       " (4, 5): ['A', 'C'],\n",
       " (4, 6): ['B'],\n",
       " (6, 7): ['A', 'C'],\n",
       " (6, 8): ['B'],\n",
       " (8, 9): ['A', 'C'],\n",
       " (8, 10): ['B'],\n",
       " (13, 14): ['A', 'C'],\n",
       " (13, 15): ['B']}"
      ]
     },
     "execution_count": 25,
     "metadata": {},
     "output_type": "execute_result"
    }
   ],
   "source": [
    "TR.edge_cond_"
   ]
  },
  {
   "cell_type": "code",
   "execution_count": 26,
   "metadata": {},
   "outputs": [
    {
     "data": {
      "text/plain": [
       "{1: 'FOSL1',\n",
       " 2: 'SOX2',\n",
       " 3: 'BCL2',\n",
       " 4: 'PCMT1',\n",
       " 5: '5',\n",
       " 6: 'RBM34',\n",
       " 7: '7',\n",
       " 8: 'UBE2C',\n",
       " 9: '9',\n",
       " 10: '10',\n",
       " 11: '11',\n",
       " 12: '12',\n",
       " 13: 'DSG2',\n",
       " 14: '14',\n",
       " 15: '15'}"
      ]
     },
     "execution_count": 26,
     "metadata": {},
     "output_type": "execute_result"
    }
   ],
   "source": [
    "TR.feature"
   ]
  },
  {
   "cell_type": "code",
   "execution_count": 27,
   "metadata": {},
   "outputs": [
    {
     "data": {
      "text/plain": [
       "{5: 0.10344827586206896,\n",
       " 7: 0.10344827586206896,\n",
       " 9: 0.06896551724137931,\n",
       " 10: 0.21839080459770116,\n",
       " 11: 0.09195402298850575,\n",
       " 12: 0.23563218390804597,\n",
       " 14: 0.10344827586206896,\n",
       " 15: 0.07471264367816093}"
      ]
     },
     "execution_count": 27,
     "metadata": {},
     "output_type": "execute_result"
    }
   ],
   "source": [
    "TR.tprob_"
   ]
  },
  {
   "cell_type": "code",
   "execution_count": 28,
   "metadata": {},
   "outputs": [
    {
     "data": {
      "text/plain": [
       "{1: {'A': 36.0, 'C': 138.0},\n",
       " 2: {'A': 12.0, 'C': 131.0},\n",
       " 3: {'A': 12.0, 'C': 90.0},\n",
       " 4: {'A': 12.0, 'C': 74.0},\n",
       " 5: {'A': 5.0, 'C': 13.0},\n",
       " 6: {'A': 7.0, 'C': 61.0},\n",
       " 7: {'A': 4.0, 'C': 14.0},\n",
       " 8: {'A': 3.0, 'C': 47.0},\n",
       " 9: {'A': 3.0, 'C': 9.0},\n",
       " 10: {'A': 0.0, 'C': 38.0},\n",
       " 11: {'A': 0.0, 'C': 16.0},\n",
       " 12: {'A': 0.0, 'C': 41.0},\n",
       " 13: {'A': 24.0, 'C': 7.0},\n",
       " 14: {'A': 11.0, 'C': 7.0},\n",
       " 15: {'A': 13.0, 'C': 0.0}}"
      ]
     },
     "execution_count": 28,
     "metadata": {},
     "output_type": "execute_result"
    }
   ],
   "source": [
    "TR.class_pred_"
   ]
  },
  {
   "cell_type": "code",
   "execution_count": 29,
   "metadata": {},
   "outputs": [],
   "source": [
    "#only need class_pred_ and num_pass_ for sampling from tree"
   ]
  },
  {
   "cell_type": "code",
   "execution_count": null,
   "metadata": {},
   "outputs": [],
   "source": []
  }
 ],
 "metadata": {
  "kernelspec": {
   "display_name": "Python 2",
   "language": "python",
   "name": "python2"
  },
  "language_info": {
   "codemirror_mode": {
    "name": "ipython",
    "version": 2
   },
   "file_extension": ".py",
   "mimetype": "text/x-python",
   "name": "python",
   "nbconvert_exporter": "python",
   "pygments_lexer": "ipython2",
   "version": "2.7.15"
  }
 },
 "nbformat": 4,
 "nbformat_minor": 2
}
