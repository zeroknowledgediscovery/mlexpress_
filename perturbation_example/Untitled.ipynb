{
 "cells": [
  {
   "cell_type": "code",
   "execution_count": 2,
   "metadata": {},
   "outputs": [],
   "source": [
    "import pickle"
   ]
  },
  {
   "cell_type": "code",
   "execution_count": 3,
   "metadata": {},
   "outputs": [],
   "source": [
    "with open('SPhiv_5_perturbation_9A.pkl', 'rb') as f:\n",
    "    data = pickle.load(f)"
   ]
  },
  {
   "cell_type": "code",
   "execution_count": 4,
   "metadata": {},
   "outputs": [
    {
     "data": {
      "text/plain": [
       "[({9: 'A', 112: 'A', 1334: 'A'}, 0.041666666666666664),\n",
       " ({9: 'A', 112: 'A', 1334: 'G'}, 0.041666666666666664),\n",
       " ({9: 'A', 112: 'C', 1334: 'A'}, 0.16666666666666666),\n",
       " ({9: 'A', 112: 'C', 1334: 'G'}, 0.16666666666666666),\n",
       " ({9: 'A', 112: 'T', 1334: 'A'}, 0.041666666666666664),\n",
       " ({9: 'A', 112: 'T', 1334: 'G'}, 0.041666666666666664),\n",
       " ({9: 'A', 112: 'G', 1334: 'A'}, 0.25),\n",
       " ({9: 'A', 112: 'G', 1334: 'G'}, 0.25)]"
      ]
     },
     "execution_count": 4,
     "metadata": {},
     "output_type": "execute_result"
    }
   ],
   "source": [
    "data[0]"
   ]
  },
  {
   "cell_type": "code",
   "execution_count": 5,
   "metadata": {},
   "outputs": [
    {
     "data": {
      "text/plain": [
       "[[({7: 'A', 110: 'C'}, 0.3333333333333333),\n",
       "  ({7: 'C', 110: 'C'}, 0.3333333333333333),\n",
       "  ({7: 'T', 110: 'C'}, 0.3333333333333333)],\n",
       " [({17: 'T', 4824: 'A'}, 0.3333333333333333),\n",
       "  ({17: 'T', 4824: 'C'}, 0.3333333333333333),\n",
       "  ({17: 'T', 4824: 'G'}, 0.3333333333333333)],\n",
       " [({3604: 'G', 4036: 'A'}, 0.0),\n",
       "  ({3604: 'G', 4036: 'C'}, 0.14285714285714285),\n",
       "  ({3604: 'G', 4036: 'T'}, 0.0),\n",
       "  ({3604: 'G', 4036: 'G'}, 0.8571428571428571)],\n",
       " [({97: 'C', 1047: 'A'}, 0.3333333333333333),\n",
       "  ({97: 'T', 1047: 'A'}, 0.3333333333333333),\n",
       "  ({97: 'G', 1047: 'A'}, 0.3333333333333333)],\n",
       " [({767: 'C', 1050: 'T'}, 0.3333333333333333),\n",
       "  ({767: 'T', 1050: 'T'}, 0.3333333333333333),\n",
       "  ({767: 'G', 1050: 'T'}, 0.3333333333333333)],\n",
       " [({33: 'A', 70: 'A', 455: 'G'}, 0.041666666666666664),\n",
       "  ({33: 'C', 70: 'A', 455: 'G'}, 0.08333333333333333),\n",
       "  ({33: 'T', 70: 'A', 455: 'G'}, 0.14583333333333331),\n",
       "  ({33: 'G', 70: 'A', 455: 'G'}, 0.0625),\n",
       "  ({33: 'A', 70: 'C', 455: 'G'}, 0.041666666666666664),\n",
       "  ({33: 'C', 70: 'C', 455: 'G'}, 0.08333333333333333),\n",
       "  ({33: 'T', 70: 'C', 455: 'G'}, 0.14583333333333331),\n",
       "  ({33: 'G', 70: 'C', 455: 'G'}, 0.0625),\n",
       "  ({33: 'A', 70: 'G', 455: 'G'}, 0.041666666666666664),\n",
       "  ({33: 'C', 70: 'G', 455: 'G'}, 0.08333333333333333),\n",
       "  ({33: 'T', 70: 'G', 455: 'G'}, 0.14583333333333331),\n",
       "  ({33: 'G', 70: 'G', 455: 'G'}, 0.0625)],\n",
       " [({37: 'C', 313: 'G'}, 1.0)],\n",
       " [({6183: 'Ak', 7731: 'A'}, 0.25),\n",
       "  ({6183: 'C', 7731: 'A'}, 0.25),\n",
       "  ({6183: 'G', 7731: 'A'}, 0.25),\n",
       "  ({6183: 'T', 7731: 'A'}, 0.25)],\n",
       " [({3676: 'T', 5649: 'C'}, 0.5), ({3676: 'T', 5649: 'G'}, 0.5)],\n",
       " [({44: 'A', 278: 'A'}, 0.75),\n",
       "  ({44: 'C', 278: 'A'}, 0.125),\n",
       "  ({44: 'T', 278: 'A'}, 0.125),\n",
       "  ({44: 'G', 278: 'A'}, 0.0)],\n",
       " [({53: 'A', 210: 'C'}, 0.0),\n",
       "  ({53: 'C', 210: 'C'}, 0.0),\n",
       "  ({53: 'T', 210: 'C'}, 0.8888888888888888),\n",
       "  ({53: 'G', 210: 'C'}, 0.1111111111111111)],\n",
       " [({6082: 'G', 7738: 'A'}, 0.9166666666666666),\n",
       "  ({6082: 'G', 7738: 'C'}, 0.0),\n",
       "  ({6082: 'G', 7738: 'T'}, 0.0),\n",
       "  ({6082: 'G', 7738: 'G'}, 0.08333333333333333)],\n",
       " [({59: 'A', 187: 'A'}, 0.3333333333333333),\n",
       "  ({59: 'A', 187: 'C'}, 0.3333333333333333),\n",
       "  ({59: 'A', 187: 'T'}, 0.3333333333333333)],\n",
       " [({61: 'C', 221: 'G', 332: 'A'}, 0.020833333333333332),\n",
       "  ({61: 'C', 221: 'G', 332: 'C'}, 0.020833333333333332),\n",
       "  ({61: 'C', 221: 'G', 332: 'T'}, 0.08333333333333333),\n",
       "  ({61: 'C', 221: 'G', 332: 'G'}, 0.20833333333333331),\n",
       "  ({61: 'T', 221: 'G', 332: 'A'}, 0.020833333333333332),\n",
       "  ({61: 'T', 221: 'G', 332: 'C'}, 0.020833333333333332),\n",
       "  ({61: 'T', 221: 'G', 332: 'T'}, 0.08333333333333333),\n",
       "  ({61: 'T', 221: 'G', 332: 'G'}, 0.20833333333333331),\n",
       "  ({61: 'G', 221: 'G', 332: 'A'}, 0.020833333333333332),\n",
       "  ({61: 'G', 221: 'G', 332: 'C'}, 0.020833333333333332),\n",
       "  ({61: 'G', 221: 'G', 332: 'T'}, 0.08333333333333333),\n",
       "  ({61: 'G', 221: 'G', 332: 'G'}, 0.20833333333333331)],\n",
       " [({1091: 'A', 5225: 'C'}, 0.0625),\n",
       "  ({1091: 'C', 5225: 'C'}, 0.4375),\n",
       "  ({1091: 'T', 5225: 'C'}, 0.125),\n",
       "  ({1091: 'G', 5225: 'C'}, 0.375)],\n",
       " [({1607: 'A', 4023: 'T'}, 0.1111111111111111),\n",
       "  ({1607: 'C', 4023: 'T'}, 0.2222222222222222),\n",
       "  ({1607: 'T', 4023: 'T'}, 0.3333333333333333),\n",
       "  ({1607: 'G', 4023: 'T'}, 0.3333333333333333)],\n",
       " [({73: 'A', 151: 'T'}, 0.25),\n",
       "  ({73: 'C', 151: 'T'}, 0.125),\n",
       "  ({73: 'T', 151: 'T'}, 0.5),\n",
       "  ({73: 'G', 151: 'T'}, 0.125)],\n",
       " [({1721: 'C', 6220: 'A'}, 0.4666666666666667),\n",
       "  ({1721: 'C', 6220: 'C'}, 0.06666666666666667),\n",
       "  ({1721: 'C', 6220: 'T'}, 0.0),\n",
       "  ({1721: 'C', 6220: 'G'}, 0.4666666666666667)],\n",
       " [({3150: 'A', 4041: 'A'}, 0.6428571428571429),\n",
       "  ({3150: 'C', 4041: 'A'}, 0.21428571428571427),\n",
       "  ({3150: 'T', 4041: 'A'}, 0.14285714285714285),\n",
       "  ({3150: 'G', 4041: 'A'}, 0.0)],\n",
       " [({80: 'A', 215: 'C'}, 0.3333333333333333),\n",
       "  ({80: 'A', 215: 'T'}, 0.3333333333333333),\n",
       "  ({80: 'A', 215: 'G'}, 0.3333333333333333)],\n",
       " [({3346: 'C', 5305: 'T'}, 0.3333333333333333),\n",
       "  ({3346: 'T', 5305: 'T'}, 0.3333333333333333),\n",
       "  ({3346: 'G', 5305: 'T'}, 0.3333333333333333)],\n",
       " [({5722: 'C', 6460: 'C'}, 0.5), ({5722: 'C', 6460: 'T'}, 0.5)],\n",
       " [({92: 'A', 101: 'C'}, 1.0)],\n",
       " [({454: 'G', 1118: 'A'}, 1.0)],\n",
       " [({867: 'A', 7267: 'A'}, 0.9),\n",
       "  ({867: 'A', 7267: 'C'}, 0.0),\n",
       "  ({867: 'A', 7267: 'T'}, 0.1),\n",
       "  ({867: 'A', 7267: 'G'}, 0.0)],\n",
       " [({324: 'A', 4882: 'G'}, 1.0)],\n",
       " [({3601: 'A', 4754: 'T'}, 0.5), ({3601: 'A', 4754: 'G'}, 0.5)],\n",
       " [({254: 'A', 1657: 'C'}, 0.3333333333333333),\n",
       "  ({254: 'A', 1657: 'T'}, 0.3333333333333333),\n",
       "  ({254: 'A', 1657: 'G'}, 0.3333333333333333)],\n",
       " [({2176: 'T', 6833: 'A'}, 0.3333333333333333),\n",
       "  ({2176: 'T', 6833: 'C'}, 0.3333333333333333),\n",
       "  ({2176: 'T', 6833: 'G'}, 0.3333333333333333)],\n",
       " [({129: 'G', 4863: 'A'}, 1.0)],\n",
       " [({3456: 'C', 7299: 'G'}, 0.3333333333333333),\n",
       "  ({3456: 'T', 7299: 'G'}, 0.3333333333333333),\n",
       "  ({3456: 'G', 7299: 'G'}, 0.3333333333333333)],\n",
       " [({141: 'A', 172: 'T'}, 0.0),\n",
       "  ({141: 'C', 172: 'T'}, 0.3333333333333333),\n",
       "  ({141: 'T', 172: 'T'}, 0.2222222222222222),\n",
       "  ({141: 'G', 172: 'T'}, 0.4444444444444444)],\n",
       " [({147: 'A', 200: 'G'}, 0.3333333333333333),\n",
       "  ({147: 'C', 200: 'G'}, 0.3333333333333333),\n",
       "  ({147: 'G', 200: 'G'}, 0.3333333333333333)],\n",
       " [({4762: 'C', 5193: 'A'}, 0.23076923076923078),\n",
       "  ({4762: 'C', 5193: 'C'}, 0.07692307692307693),\n",
       "  ({4762: 'C', 5193: 'T'}, 0.3076923076923077),\n",
       "  ({4762: 'C', 5193: 'G'}, 0.38461538461538464)],\n",
       " [({158: 'A', 189: 'A'}, 0.15384615384615385),\n",
       "  ({158: 'A', 189: 'C'}, 0.15384615384615385),\n",
       "  ({158: 'A', 189: 'T'}, 0.46153846153846156),\n",
       "  ({158: 'A', 189: 'G'}, 0.23076923076923078)],\n",
       " [({3246: 'C', 4393: 'A'}, 0.3333333333333333),\n",
       "  ({3246: 'T', 4393: 'A'}, 0.3333333333333333),\n",
       "  ({3246: 'G', 4393: 'A'}, 0.3333333333333333)],\n",
       " [({5607: 'A', 5820: 'A'}, 0.0),\n",
       "  ({5607: 'A', 5820: 'C'}, 0.5),\n",
       "  ({5607: 'A', 5820: 'T'}, 0.5),\n",
       "  ({5607: 'A', 5820: 'G'}, 0.0)],\n",
       " [({1745: 'C', 3970: 'G'}, 0.3333333333333333),\n",
       "  ({1745: 'T', 3970: 'G'}, 0.3333333333333333),\n",
       "  ({1745: 'G', 3970: 'G'}, 0.3333333333333333)],\n",
       " [({789: 'G', 5332: 'A'}, 0.5), ({789: 'G', 5332: 'G'}, 0.5)],\n",
       " [({6021: 'G', 6882: 'A'}, 0.5), ({6021: 'G', 6882: 'G'}, 0.5)],\n",
       " [({3887: 'T', 5863: 'A'}, 0.6153846153846154),\n",
       "  ({3887: 'T', 5863: 'C'}, 0.07692307692307693),\n",
       "  ({3887: 'T', 5863: 'T'}, 0.0),\n",
       "  ({3887: 'T', 5863: 'G'}, 0.3076923076923077)],\n",
       " [({773: 'T', 1518: 'C', 5359: 'C'}, 0.16666666666666666),\n",
       "  ({773: 'T', 1518: 'C', 5359: 'T'}, 0.16666666666666666),\n",
       "  ({773: 'T', 1518: 'C', 5359: 'G'}, 0.16666666666666666),\n",
       "  ({773: 'G', 1518: 'C', 5359: 'C'}, 0.16666666666666666),\n",
       "  ({773: 'G', 1518: 'C', 5359: 'T'}, 0.16666666666666666),\n",
       "  ({773: 'G', 1518: 'C', 5359: 'G'}, 0.16666666666666666)],\n",
       " [({4867: 'A', 7156: 'G'}, 0.0),\n",
       "  ({4867: 'C', 7156: 'G'}, 0.3),\n",
       "  ({4867: 'T', 7156: 'G'}, 0.4),\n",
       "  ({4867: 'G', 7156: 'G'}, 0.3)],\n",
       " [({2388: 'G', 3913: 'A'}, 0.2),\n",
       "  ({2388: 'G', 3913: 'C'}, 0.06666666666666667),\n",
       "  ({2388: 'G', 3913: 'T'}, 0.4666666666666667),\n",
       "  ({2388: 'G', 3913: 'G'}, 0.26666666666666666)],\n",
       " [({841: 'A', 5519: 'A'}, 1.0)],\n",
       " [({952: 'C', 1082: 'A'}, 0.3333333333333333),\n",
       "  ({952: 'T', 1082: 'A'}, 0.3333333333333333),\n",
       "  ({952: 'G', 1082: 'A'}, 0.3333333333333333)],\n",
       " [({2030: 'G', 7065: 'C'}, 0.3333333333333333),\n",
       "  ({2030: 'G', 7065: 'T'}, 0.3333333333333333),\n",
       "  ({2030: 'G', 7065: 'G'}, 0.3333333333333333)]]"
      ]
     },
     "execution_count": 5,
     "metadata": {},
     "output_type": "execute_result"
    }
   ],
   "source": [
    "data[1]"
   ]
  },
  {
   "cell_type": "code",
   "execution_count": 6,
   "metadata": {},
   "outputs": [],
   "source": [
    "import pandas as pd"
   ]
  },
  {
   "cell_type": "code",
   "execution_count": 7,
   "metadata": {},
   "outputs": [],
   "source": [
    "rf=pd.read_csv('RPhiv_perturbed_sequences.csv',header=None)\n",
    "sf=pd.read_csv('SPhiv_perturbed_sequences.csv',header=None)\n"
   ]
  },
  {
   "cell_type": "code",
   "execution_count": 8,
   "metadata": {},
   "outputs": [],
   "source": [
    "def getSeries(col):\n",
    "    return col.value_counts()\n",
    "\n"
   ]
  },
  {
   "cell_type": "code",
   "execution_count": 9,
   "metadata": {},
   "outputs": [],
   "source": [
    "def getH(df):\n",
    "    df_=df.apply(getSeries,axis=0)\n",
    "    df_=df_.loc[['A','T','G','C']].fillna(0)\n",
    "    df_=df_/500\n",
    "    return df_"
   ]
  },
  {
   "cell_type": "code",
   "execution_count": 10,
   "metadata": {},
   "outputs": [],
   "source": [
    "rf_=getH(rf)\n",
    "sf_=getH(sf)"
   ]
  },
  {
   "cell_type": "code",
   "execution_count": 11,
   "metadata": {},
   "outputs": [
    {
     "data": {
      "text/html": [
       "<div>\n",
       "<style scoped>\n",
       "    .dataframe tbody tr th:only-of-type {\n",
       "        vertical-align: middle;\n",
       "    }\n",
       "\n",
       "    .dataframe tbody tr th {\n",
       "        vertical-align: top;\n",
       "    }\n",
       "\n",
       "    .dataframe thead th {\n",
       "        text-align: right;\n",
       "    }\n",
       "</style>\n",
       "<table border=\"1\" class=\"dataframe\">\n",
       "  <thead>\n",
       "    <tr style=\"text-align: right;\">\n",
       "      <th></th>\n",
       "      <th>0</th>\n",
       "      <th>1</th>\n",
       "      <th>2</th>\n",
       "      <th>3</th>\n",
       "      <th>4</th>\n",
       "      <th>5</th>\n",
       "      <th>6</th>\n",
       "      <th>7</th>\n",
       "      <th>8</th>\n",
       "      <th>9</th>\n",
       "      <th>...</th>\n",
       "      <th>8074</th>\n",
       "      <th>8075</th>\n",
       "      <th>8076</th>\n",
       "      <th>8077</th>\n",
       "      <th>8078</th>\n",
       "      <th>8079</th>\n",
       "      <th>8080</th>\n",
       "      <th>8081</th>\n",
       "      <th>8082</th>\n",
       "      <th>8083</th>\n",
       "    </tr>\n",
       "  </thead>\n",
       "  <tbody>\n",
       "    <tr>\n",
       "      <th>A</th>\n",
       "      <td>0.326</td>\n",
       "      <td>0.248</td>\n",
       "      <td>0.0</td>\n",
       "      <td>0.0</td>\n",
       "      <td>0.372</td>\n",
       "      <td>0.254</td>\n",
       "      <td>0.0</td>\n",
       "      <td>0.0</td>\n",
       "      <td>0.0</td>\n",
       "      <td>1.0</td>\n",
       "      <td>...</td>\n",
       "      <td>0.316</td>\n",
       "      <td>0.358</td>\n",
       "      <td>0.0</td>\n",
       "      <td>0.0</td>\n",
       "      <td>1.0</td>\n",
       "      <td>0.0</td>\n",
       "      <td>0.0</td>\n",
       "      <td>0.0</td>\n",
       "      <td>0.326</td>\n",
       "      <td>0.0</td>\n",
       "    </tr>\n",
       "    <tr>\n",
       "      <th>T</th>\n",
       "      <td>0.334</td>\n",
       "      <td>0.278</td>\n",
       "      <td>0.0</td>\n",
       "      <td>0.0</td>\n",
       "      <td>0.000</td>\n",
       "      <td>0.250</td>\n",
       "      <td>0.0</td>\n",
       "      <td>0.0</td>\n",
       "      <td>0.5</td>\n",
       "      <td>0.0</td>\n",
       "      <td>...</td>\n",
       "      <td>0.346</td>\n",
       "      <td>0.000</td>\n",
       "      <td>0.0</td>\n",
       "      <td>1.0</td>\n",
       "      <td>0.0</td>\n",
       "      <td>1.0</td>\n",
       "      <td>0.0</td>\n",
       "      <td>1.0</td>\n",
       "      <td>0.000</td>\n",
       "      <td>0.0</td>\n",
       "    </tr>\n",
       "    <tr>\n",
       "      <th>G</th>\n",
       "      <td>0.340</td>\n",
       "      <td>0.232</td>\n",
       "      <td>1.0</td>\n",
       "      <td>0.0</td>\n",
       "      <td>0.322</td>\n",
       "      <td>0.254</td>\n",
       "      <td>1.0</td>\n",
       "      <td>0.0</td>\n",
       "      <td>0.0</td>\n",
       "      <td>0.0</td>\n",
       "      <td>...</td>\n",
       "      <td>0.000</td>\n",
       "      <td>0.318</td>\n",
       "      <td>1.0</td>\n",
       "      <td>0.0</td>\n",
       "      <td>0.0</td>\n",
       "      <td>0.0</td>\n",
       "      <td>0.0</td>\n",
       "      <td>0.0</td>\n",
       "      <td>0.326</td>\n",
       "      <td>0.0</td>\n",
       "    </tr>\n",
       "    <tr>\n",
       "      <th>C</th>\n",
       "      <td>0.000</td>\n",
       "      <td>0.242</td>\n",
       "      <td>0.0</td>\n",
       "      <td>1.0</td>\n",
       "      <td>0.306</td>\n",
       "      <td>0.242</td>\n",
       "      <td>0.0</td>\n",
       "      <td>1.0</td>\n",
       "      <td>0.5</td>\n",
       "      <td>0.0</td>\n",
       "      <td>...</td>\n",
       "      <td>0.338</td>\n",
       "      <td>0.324</td>\n",
       "      <td>0.0</td>\n",
       "      <td>0.0</td>\n",
       "      <td>0.0</td>\n",
       "      <td>0.0</td>\n",
       "      <td>1.0</td>\n",
       "      <td>0.0</td>\n",
       "      <td>0.348</td>\n",
       "      <td>1.0</td>\n",
       "    </tr>\n",
       "  </tbody>\n",
       "</table>\n",
       "<p>4 rows × 8084 columns</p>\n",
       "</div>"
      ],
      "text/plain": [
       "    0      1     2     3      4      5     6     7     8     9     ...   \\\n",
       "A  0.326  0.248   0.0   0.0  0.372  0.254   0.0   0.0   0.0   1.0  ...    \n",
       "T  0.334  0.278   0.0   0.0  0.000  0.250   0.0   0.0   0.5   0.0  ...    \n",
       "G  0.340  0.232   1.0   0.0  0.322  0.254   1.0   0.0   0.0   0.0  ...    \n",
       "C  0.000  0.242   0.0   1.0  0.306  0.242   0.0   1.0   0.5   0.0  ...    \n",
       "\n",
       "    8074   8075  8076  8077  8078  8079  8080  8081   8082  8083  \n",
       "A  0.316  0.358   0.0   0.0   1.0   0.0   0.0   0.0  0.326   0.0  \n",
       "T  0.346  0.000   0.0   1.0   0.0   1.0   0.0   1.0  0.000   0.0  \n",
       "G  0.000  0.318   1.0   0.0   0.0   0.0   0.0   0.0  0.326   0.0  \n",
       "C  0.338  0.324   0.0   0.0   0.0   0.0   1.0   0.0  0.348   1.0  \n",
       "\n",
       "[4 rows x 8084 columns]"
      ]
     },
     "execution_count": 11,
     "metadata": {},
     "output_type": "execute_result"
    }
   ],
   "source": [
    "rf_"
   ]
  },
  {
   "cell_type": "code",
   "execution_count": 12,
   "metadata": {},
   "outputs": [
    {
     "data": {
      "text/html": [
       "<div>\n",
       "<style scoped>\n",
       "    .dataframe tbody tr th:only-of-type {\n",
       "        vertical-align: middle;\n",
       "    }\n",
       "\n",
       "    .dataframe tbody tr th {\n",
       "        vertical-align: top;\n",
       "    }\n",
       "\n",
       "    .dataframe thead th {\n",
       "        text-align: right;\n",
       "    }\n",
       "</style>\n",
       "<table border=\"1\" class=\"dataframe\">\n",
       "  <thead>\n",
       "    <tr style=\"text-align: right;\">\n",
       "      <th></th>\n",
       "      <th>0</th>\n",
       "      <th>1</th>\n",
       "      <th>2</th>\n",
       "      <th>3</th>\n",
       "      <th>4</th>\n",
       "      <th>5</th>\n",
       "      <th>6</th>\n",
       "      <th>7</th>\n",
       "      <th>8</th>\n",
       "      <th>9</th>\n",
       "      <th>...</th>\n",
       "      <th>8074</th>\n",
       "      <th>8075</th>\n",
       "      <th>8076</th>\n",
       "      <th>8077</th>\n",
       "      <th>8078</th>\n",
       "      <th>8079</th>\n",
       "      <th>8080</th>\n",
       "      <th>8081</th>\n",
       "      <th>8082</th>\n",
       "      <th>8083</th>\n",
       "    </tr>\n",
       "  </thead>\n",
       "  <tbody>\n",
       "    <tr>\n",
       "      <th>A</th>\n",
       "      <td>1.0</td>\n",
       "      <td>1.0</td>\n",
       "      <td>0.0</td>\n",
       "      <td>0.0</td>\n",
       "      <td>0.0</td>\n",
       "      <td>0.0</td>\n",
       "      <td>0.0</td>\n",
       "      <td>0.362</td>\n",
       "      <td>0.0</td>\n",
       "      <td>1.0</td>\n",
       "      <td>...</td>\n",
       "      <td>0.0</td>\n",
       "      <td>0.0</td>\n",
       "      <td>0.0</td>\n",
       "      <td>1.0</td>\n",
       "      <td>1.0</td>\n",
       "      <td>0.0</td>\n",
       "      <td>0.0</td>\n",
       "      <td>0.0</td>\n",
       "      <td>0.0</td>\n",
       "      <td>0.0</td>\n",
       "    </tr>\n",
       "    <tr>\n",
       "      <th>T</th>\n",
       "      <td>0.0</td>\n",
       "      <td>0.0</td>\n",
       "      <td>0.0</td>\n",
       "      <td>0.0</td>\n",
       "      <td>1.0</td>\n",
       "      <td>1.0</td>\n",
       "      <td>0.0</td>\n",
       "      <td>0.320</td>\n",
       "      <td>0.0</td>\n",
       "      <td>0.0</td>\n",
       "      <td>...</td>\n",
       "      <td>1.0</td>\n",
       "      <td>0.0</td>\n",
       "      <td>0.0</td>\n",
       "      <td>0.0</td>\n",
       "      <td>0.0</td>\n",
       "      <td>1.0</td>\n",
       "      <td>0.0</td>\n",
       "      <td>1.0</td>\n",
       "      <td>0.0</td>\n",
       "      <td>0.0</td>\n",
       "    </tr>\n",
       "    <tr>\n",
       "      <th>G</th>\n",
       "      <td>0.0</td>\n",
       "      <td>0.0</td>\n",
       "      <td>1.0</td>\n",
       "      <td>0.0</td>\n",
       "      <td>0.0</td>\n",
       "      <td>0.0</td>\n",
       "      <td>1.0</td>\n",
       "      <td>0.000</td>\n",
       "      <td>0.0</td>\n",
       "      <td>0.0</td>\n",
       "      <td>...</td>\n",
       "      <td>0.0</td>\n",
       "      <td>1.0</td>\n",
       "      <td>1.0</td>\n",
       "      <td>0.0</td>\n",
       "      <td>0.0</td>\n",
       "      <td>0.0</td>\n",
       "      <td>0.0</td>\n",
       "      <td>0.0</td>\n",
       "      <td>0.0</td>\n",
       "      <td>0.0</td>\n",
       "    </tr>\n",
       "    <tr>\n",
       "      <th>C</th>\n",
       "      <td>0.0</td>\n",
       "      <td>0.0</td>\n",
       "      <td>0.0</td>\n",
       "      <td>1.0</td>\n",
       "      <td>0.0</td>\n",
       "      <td>0.0</td>\n",
       "      <td>0.0</td>\n",
       "      <td>0.318</td>\n",
       "      <td>1.0</td>\n",
       "      <td>0.0</td>\n",
       "      <td>...</td>\n",
       "      <td>0.0</td>\n",
       "      <td>0.0</td>\n",
       "      <td>0.0</td>\n",
       "      <td>0.0</td>\n",
       "      <td>0.0</td>\n",
       "      <td>0.0</td>\n",
       "      <td>1.0</td>\n",
       "      <td>0.0</td>\n",
       "      <td>1.0</td>\n",
       "      <td>1.0</td>\n",
       "    </tr>\n",
       "  </tbody>\n",
       "</table>\n",
       "<p>4 rows × 8084 columns</p>\n",
       "</div>"
      ],
      "text/plain": [
       "   0     1     2     3     4     5     6      7     8     9     ...   8074  \\\n",
       "A   1.0   1.0   0.0   0.0   0.0   0.0   0.0  0.362   0.0   1.0  ...    0.0   \n",
       "T   0.0   0.0   0.0   0.0   1.0   1.0   0.0  0.320   0.0   0.0  ...    1.0   \n",
       "G   0.0   0.0   1.0   0.0   0.0   0.0   1.0  0.000   0.0   0.0  ...    0.0   \n",
       "C   0.0   0.0   0.0   1.0   0.0   0.0   0.0  0.318   1.0   0.0  ...    0.0   \n",
       "\n",
       "   8075  8076  8077  8078  8079  8080  8081  8082  8083  \n",
       "A   0.0   0.0   1.0   1.0   0.0   0.0   0.0   0.0   0.0  \n",
       "T   0.0   0.0   0.0   0.0   1.0   0.0   1.0   0.0   0.0  \n",
       "G   1.0   1.0   0.0   0.0   0.0   0.0   0.0   0.0   0.0  \n",
       "C   0.0   0.0   0.0   0.0   0.0   1.0   0.0   1.0   1.0  \n",
       "\n",
       "[4 rows x 8084 columns]"
      ]
     },
     "execution_count": 12,
     "metadata": {},
     "output_type": "execute_result"
    }
   ],
   "source": [
    "sf_"
   ]
  },
  {
   "cell_type": "code",
   "execution_count": 13,
   "metadata": {},
   "outputs": [],
   "source": [
    "mf=rf_*sf_\n",
    "mf=mf/mf.sum()"
   ]
  },
  {
   "cell_type": "code",
   "execution_count": 14,
   "metadata": {},
   "outputs": [],
   "source": [
    "mf=mf.dropna(axis=1)"
   ]
  },
  {
   "cell_type": "code",
   "execution_count": 15,
   "metadata": {},
   "outputs": [
    {
     "data": {
      "text/plain": [
       "0       1.0\n",
       "1       1.0\n",
       "2       1.0\n",
       "3       1.0\n",
       "5       1.0\n",
       "6       1.0\n",
       "7       1.0\n",
       "8       1.0\n",
       "9       1.0\n",
       "10      1.0\n",
       "11      1.0\n",
       "12      1.0\n",
       "13      1.0\n",
       "14      1.0\n",
       "15      1.0\n",
       "16      1.0\n",
       "17      1.0\n",
       "18      1.0\n",
       "19      1.0\n",
       "20      1.0\n",
       "21      1.0\n",
       "22      1.0\n",
       "23      1.0\n",
       "24      1.0\n",
       "25      1.0\n",
       "26      1.0\n",
       "27      1.0\n",
       "28      1.0\n",
       "29      1.0\n",
       "30      1.0\n",
       "       ... \n",
       "8052    1.0\n",
       "8053    1.0\n",
       "8054    1.0\n",
       "8055    1.0\n",
       "8056    1.0\n",
       "8057    1.0\n",
       "8058    1.0\n",
       "8059    1.0\n",
       "8060    1.0\n",
       "8061    1.0\n",
       "8062    1.0\n",
       "8063    1.0\n",
       "8065    1.0\n",
       "8066    1.0\n",
       "8067    1.0\n",
       "8068    1.0\n",
       "8069    1.0\n",
       "8070    1.0\n",
       "8071    1.0\n",
       "8072    1.0\n",
       "8073    1.0\n",
       "8074    1.0\n",
       "8075    1.0\n",
       "8076    1.0\n",
       "8078    1.0\n",
       "8079    1.0\n",
       "8080    1.0\n",
       "8081    1.0\n",
       "8082    1.0\n",
       "8083    1.0\n",
       "Length: 7454, dtype: float64"
      ]
     },
     "execution_count": 15,
     "metadata": {},
     "output_type": "execute_result"
    }
   ],
   "source": [
    "mf.sum()"
   ]
  },
  {
   "cell_type": "code",
   "execution_count": 22,
   "metadata": {},
   "outputs": [],
   "source": [
    "varrf_=rf_.std().values\n",
    "varsf_=sf_.std().values\n"
   ]
  },
  {
   "cell_type": "code",
   "execution_count": 19,
   "metadata": {},
   "outputs": [],
   "source": [
    "import pylab as plt\n",
    "%matplotlib inline"
   ]
  },
  {
   "cell_type": "code",
   "execution_count": 85,
   "metadata": {},
   "outputs": [
    {
     "data": {
      "image/png": "[encoded data removed]",
      "text/plain": [
       "<Figure size 432x432 with 1 Axes>"
      ]
     },
     "metadata": {
      "needs_background": "light"
     },
     "output_type": "display_data"
    },
    {
     "data": {
      "image/png": "[encoded data removed]",
      "text/plain": [
       "<Figure size 432x432 with 1 Axes>"
      ]
     },
     "metadata": {
      "needs_background": "light"
     },
     "output_type": "display_data"
    },
    {
     "data": {
      "image/png": "[encoded data removed]",
      "text/plain": [
       "<Figure size 432x432 with 1 Axes>"
      ]
     },
     "metadata": {
      "needs_background": "light"
     },
     "output_type": "display_data"
    },
    {
     "data": {
      "image/png": "[encoded data removed]",
      "text/plain": [
       "<Figure size 432x432 with 1 Axes>"
      ]
     },
     "metadata": {
      "needs_background": "light"
     },
     "output_type": "display_data"
    }
   ],
   "source": [
    "fig=plt.figure(figsize=[6,6])\n",
    "plt.scatter(rf_.loc['A'],sf_.loc['A'])\n",
    "ax=plt.gca()\n",
    "plt.gca().set_xlabel('RP',fontsize=20)\n",
    "plt.gca().set_ylabel('SP',fontsize=20)\n",
    "for tick in ax.yaxis.get_major_ticks():\n",
    "    tick.label.set_fontsize(14) \n",
    "    # specify integer or one of preset strings, e.g.\n",
    "    #tick.label.set_fontsize('x-small') \n",
    "    tick.label.set_rotation('vertical')\n",
    "for tick in ax.xaxis.get_major_ticks():\n",
    "    tick.label.set_fontsize(14) \n",
    "    # specify integer or one of preset strings, e.g.\n",
    "    #tick.label.set_fontsize('x-small') \n",
    "    tick.label.set_rotation('vertical')\n",
    "\n",
    "\n",
    "#ax.title()\n",
    "\n",
    "plt.savefig('rsA.pdf',dpi=200,transparent=False,bbox_inches='tight',pad_inches=0)\n",
    "\n",
    "fig=plt.figure(figsize=[6,6])\n",
    "plt.scatter(rf_.loc['T'],sf_.loc['T'])\n",
    "ax=plt.gca()\n",
    "plt.gca().set_xlabel('RP',fontsize=20)\n",
    "plt.gca().set_ylabel('SP',fontsize=20)\n",
    "for tick in ax.yaxis.get_major_ticks():\n",
    "    tick.label.set_fontsize(14) \n",
    "    # specify integer or one of preset strings, e.g.\n",
    "    #tick.label.set_fontsize('x-small') \n",
    "    tick.label.set_rotation('vertical')\n",
    "for tick in ax.xaxis.get_major_ticks():\n",
    "    tick.label.set_fontsize(14) \n",
    "    # specify integer or one of preset strings, e.g.\n",
    "    #tick.label.set_fontsize('x-small') \n",
    "    tick.label.set_rotation('vertical')\n",
    "\n",
    "\n",
    "#ax.title()\n",
    "\n",
    "plt.savefig('rsT.pdf',dpi=200,transparent=False,bbox_inches='tight',pad_inches=0)\n",
    "\n",
    "fig=plt.figure(figsize=[6,6])\n",
    "plt.scatter(rf_.loc['G'],sf_.loc['G'])\n",
    "ax=plt.gca()\n",
    "plt.gca().set_xlabel('RP',fontsize=20)\n",
    "plt.gca().set_ylabel('SP',fontsize=20)\n",
    "for tick in ax.yaxis.get_major_ticks():\n",
    "    tick.label.set_fontsize(14) \n",
    "    # specify integer or one of preset strings, e.g.\n",
    "    #tick.label.set_fontsize('x-small') \n",
    "    tick.label.set_rotation('vertical')\n",
    "for tick in ax.xaxis.get_major_ticks():\n",
    "    tick.label.set_fontsize(14) \n",
    "    # specify integer or one of preset strings, e.g.\n",
    "    #tick.label.set_fontsize('x-small') \n",
    "    tick.label.set_rotation('vertical')\n",
    "\n",
    "\n",
    "#ax.title()\n",
    "\n",
    "plt.savefig('rsG.pdf',dpi=200,transparent=False,bbox_inches='tight',pad_inches=0)\n",
    "\n",
    "fig=plt.figure(figsize=[6,6])\n",
    "\n",
    "plt.scatter(rf_.loc['C'],sf_.loc['C'])\n",
    "ax=plt.gca()\n",
    "plt.gca().set_xlabel('RP',fontsize=20)\n",
    "plt.gca().set_ylabel('SP',fontsize=20)\n",
    "for tick in ax.yaxis.get_major_ticks():\n",
    "    tick.label.set_fontsize(14) \n",
    "    # specify integer or one of preset strings, e.g.\n",
    "    #tick.label.set_fontsize('x-small') \n",
    "    tick.label.set_rotation('vertical')\n",
    "for tick in ax.xaxis.get_major_ticks():\n",
    "    tick.label.set_fontsize(14) \n",
    "    # specify integer or one of preset strings, e.g.\n",
    "    #tick.label.set_fontsize('x-small') \n",
    "    tick.label.set_rotation('vertical')\n",
    "\n",
    "\n",
    "#ax.title()\n",
    "\n",
    "plt.savefig('rsC.pdf',dpi=200,transparent=False,bbox_inches='tight',pad_inches=0)\n",
    "\n"
   ]
  },
  {
   "cell_type": "code",
   "execution_count": 26,
   "metadata": {},
   "outputs": [
    {
     "data": {
      "text/plain": [
       "<matplotlib.collections.PathCollection at 0x7ff6425d0150>"
      ]
     },
     "execution_count": 26,
     "metadata": {},
     "output_type": "execute_result"
    },
    {
     "data": {
      "image/png": "[encoded data removed]",
      "text/plain": [
       "<Figure size 432x288 with 1 Axes>"
      ]
     },
     "metadata": {
      "needs_background": "light"
     },
     "output_type": "display_data"
    }
   ],
   "source": [
    "plt.scatter(rf_.loc['T'],sf_.loc['T'])"
   ]
  },
  {
   "cell_type": "code",
   "execution_count": 27,
   "metadata": {},
   "outputs": [
    {
     "data": {
      "text/plain": [
       "<matplotlib.collections.PathCollection at 0x7ff642730250>"
      ]
     },
     "execution_count": 27,
     "metadata": {},
     "output_type": "execute_result"
    },
    {
     "data": {
      "image/png": "[encoded data removed]",
      "text/plain": [
       "<Figure size 432x288 with 1 Axes>"
      ]
     },
     "metadata": {
      "needs_background": "light"
     },
     "output_type": "display_data"
    }
   ],
   "source": [
    "plt.scatter(rf_.loc['G'],sf_.loc['G'])"
   ]
  },
  {
   "cell_type": "code",
   "execution_count": 28,
   "metadata": {},
   "outputs": [
    {
     "data": {
      "text/plain": [
       "<matplotlib.collections.PathCollection at 0x7ff642cd01d0>"
      ]
     },
     "execution_count": 28,
     "metadata": {},
     "output_type": "execute_result"
    },
    {
     "data": {
      "image/png": "[encoded data removed]",
      "text/plain": [
       "<Figure size 432x288 with 1 Axes>"
      ]
     },
     "metadata": {
      "needs_background": "light"
     },
     "output_type": "display_data"
    }
   ],
   "source": [
    "plt.scatter(rf_.loc['C'],sf_.loc['C'])"
   ]
  },
  {
   "cell_type": "code",
   "execution_count": 39,
   "metadata": {},
   "outputs": [],
   "source": [
    "import seaborn as sns"
   ]
  },
  {
   "cell_type": "code",
   "execution_count": 67,
   "metadata": {},
   "outputs": [
    {
     "data": {
      "image/png": "[encoded data removed]",
      "text/plain": [
       "<Figure size 1080x360 with 2 Axes>"
      ]
     },
     "metadata": {
      "needs_background": "light"
     },
     "output_type": "display_data"
    }
   ],
   "source": [
    "fig=plt.figure(figsize=[15,5])\n",
    "ax=sns.heatmap(rf_, cmap=\"YlGnBu\")\n",
    "ax.set_xlabel('Positional Index')\n",
    "for tick in ax.yaxis.get_major_ticks():\n",
    "    tick.label.set_fontsize(14) \n",
    "    # specify integer or one of preset strings, e.g.\n",
    "    #tick.label.set_fontsize('x-small') \n",
    "    tick.label.set_rotation('vertical')\n",
    "\n",
    "\n",
    "plt.savefig('RP.pdf',dpi=200,transparent=True,bbox_inches='tight',pad_inches=0)"
   ]
  },
  {
   "cell_type": "code",
   "execution_count": 68,
   "metadata": {},
   "outputs": [
    {
     "data": {
      "image/png": "[encoded data removed]",
      "text/plain": [
       "<Figure size 1080x360 with 2 Axes>"
      ]
     },
     "metadata": {
      "needs_background": "light"
     },
     "output_type": "display_data"
    }
   ],
   "source": [
    "fig=plt.figure(figsize=[15,5])\n",
    "ax=sns.heatmap(sf_, cmap=\"YlGnBu\")\n",
    "ax.set_xlabel('Positional Index')\n",
    "for tick in ax.yaxis.get_major_ticks():\n",
    "    tick.label.set_fontsize(14) \n",
    "    # specify integer or one of preset strings, e.g.\n",
    "    #tick.label.set_fontsize('x-small') \n",
    "    tick.label.set_rotation('vertical')\n",
    "plt.savefig('SP.pdf',dpi=200,transparent=True,bbox_inches='tight',pad_inches=0)"
   ]
  },
  {
   "cell_type": "code",
   "execution_count": null,
   "metadata": {},
   "outputs": [],
   "source": []
  }
 ],
 "metadata": {
  "kernelspec": {
   "display_name": "Python 2",
   "language": "python",
   "name": "python2"
  },
  "language_info": {
   "codemirror_mode": {
    "name": "ipython",
    "version": 2
   },
   "file_extension": ".py",
   "mimetype": "text/x-python",
   "name": "python",
   "nbconvert_exporter": "python",
   "pygments_lexer": "ipython2",
   "version": "2.7.15"
  }
 },
 "nbformat": 4,
 "nbformat_minor": 2
}
